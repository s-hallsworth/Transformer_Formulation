{
 "cells": [
  {
   "cell_type": "code",
   "execution_count": 2,
   "metadata": {},
   "outputs": [
    {
     "name": "stdout",
     "output_type": "stream",
     "text": [
      "Note: not using Google CoLab\n",
      "Using device: cpu\n"
     ]
    }
   ],
   "source": [
    "try:\n",
    "    import google.colab\n",
    "    import torch\n",
    "    COLAB = True\n",
    "    print(\"Note: using Google CoLab\")\n",
    "    \n",
    "    has_mps = torch.backends.mps.is_built()\n",
    "    device = \"mps\" if has_mps else \"cuda\" if torch.cuda.is_available() else \"cpu\"\n",
    "except:\n",
    "    import torch\n",
    "    print(\"Note: not using Google CoLab\")\n",
    "    COLAB = False\n",
    "    \n",
    "    has_mps = torch.backends.mps.is_built()\n",
    "    device = \"mps\" if has_mps else \"cuda\" if torch.cuda.is_available() else \"cpu\"\n",
    "\n",
    "# Make use of a GPU or MPS (Apple) if one is available.  (see module 3.2)\n",
    "import torch\n",
    "has_mps = torch.backends.mps.is_built()\n",
    "print(f\"Using device: {device}\")"
   ]
  },
  {
   "cell_type": "markdown",
   "metadata": {},
   "source": [
    "Import data"
   ]
  },
  {
   "cell_type": "code",
   "execution_count": 141,
   "metadata": {},
   "outputs": [
    {
     "name": "stdout",
     "output_type": "stream",
     "text": [
      "       time         u         x\n",
      "0  0.000000  0.250000  0.125000\n",
      "1  0.111111  0.264706  0.243464\n",
      "2  0.222222  0.281250  0.362847\n",
      "3  0.333333  0.300000  0.483333\n",
      "4  0.444444  0.321429  0.605159\n",
      "train shape:  (18, 3)\n",
      "test shape:   (12, 3)\n"
     ]
    }
   ],
   "source": [
    "import numpy as np\n",
    "import pandas as pd\n",
    "import torch\n",
    "import torch.nn as nn\n",
    "from torch.utils.data import DataLoader, TensorDataset\n",
    "from sklearn.preprocessing import StandardScaler\n",
    "\n",
    "df = pd.read_csv(\"data.csv\",sep=',', header=0,index_col=False)\n",
    "df.replace([np.inf, -np.inf], np.nan, inplace=True)  # Replace inf with NaN\n",
    "df.fillna(method='ffill', inplace=True)  # Forward fill NaNs\n",
    "\n",
    "\n",
    "num_setups = 3\n",
    "split_time = 0.6\n",
    "train_data = df[df['time'] < split_time]  \n",
    "test_data = df[df['time'] >= split_time]  \n",
    "\n",
    "print(df.head())\n",
    "print('train shape: ', train_data.shape)\n",
    "print('test shape:  ', test_data.shape)"
   ]
  },
  {
   "cell_type": "code",
   "execution_count": 115,
   "metadata": {},
   "outputs": [
    {
     "name": "stdout",
     "output_type": "stream",
     "text": [
      "train shape:  (3, 6, 2)\n",
      "test shape:   (3, 4, 2)\n"
     ]
    }
   ],
   "source": [
    "# Select position and control columns\n",
    "train_array = train_data[['x', 'u']]\n",
    "test_array = test_data[['x', 'u']]\n",
    "\n",
    "# Reshape test and train arrays\n",
    "train_array = train_array.to_numpy().reshape(num_setups, train_array.shape[0]//num_setups, 2) \n",
    "test_array = test_array.to_numpy().reshape(num_setups, test_array.shape[0]//num_setups, 2)\n",
    "\n",
    "print('train shape: ', train_array.shape)\n",
    "print('test shape:  ', test_array.shape)"
   ]
  },
  {
   "cell_type": "code",
   "execution_count": 148,
   "metadata": {},
   "outputs": [
    {
     "name": "stdout",
     "output_type": "stream",
     "text": [
      "x train shape:  (3, 5, 2)\n",
      "y train shape:  (3, 5)\n",
      "x test shape:  (3, 3, 2)\n",
      "y test shape:  (3, 3)\n"
     ]
    }
   ],
   "source": [
    "def create_sequences(data, sequence_length):\n",
    "    inputs = []\n",
    "    targets = []\n",
    "\n",
    "    for setup in data:\n",
    "        inputs.append(setup[:sequence_length])\n",
    "        targets.append(setup[1:sequence_length+1,0])\n",
    "\n",
    "    return np.array(inputs), np.array(targets)\n",
    "\n",
    "# Create sequences\n",
    "x_train, y_train = create_sequences(train_array,train_array.shape[1]-1)\n",
    "x_test, y_test = create_sequences(test_array, test_array.shape[1]-1)\n",
    "\n",
    "print('x train shape: ', x_train.shape)\n",
    "print('y train shape: ', y_train.shape)\n",
    "print('x test shape: ', x_test.shape)\n",
    "print('y test shape: ', y_test.shape)"
   ]
  },
  {
   "cell_type": "code",
   "execution_count": 149,
   "metadata": {},
   "outputs": [
    {
     "name": "stdout",
     "output_type": "stream",
     "text": [
      "x train shape:  torch.Size([3, 5, 2])\n",
      "y train shape:  torch.Size([3, 5])\n",
      "x test shape:  torch.Size([3, 3, 2])\n",
      "y test shape:  torch.Size([3, 3])\n"
     ]
    }
   ],
   "source": [
    "# Convert to PyTorch tensors\n",
    "x_train_tensor = torch.tensor(x_train, dtype=torch.float32)\n",
    "y_train_tensor = torch.tensor(y_train, dtype=torch.float32)\n",
    "x_test_tensor = torch.tensor(x_test, dtype=torch.float32)\n",
    "y_test_tensor = torch.tensor(y_test, dtype=torch.float32)\n",
    "\n",
    "print('x train shape: ', x_train_tensor.shape)\n",
    "print('y train shape: ', y_train_tensor.shape)\n",
    "print('x test shape: ', x_test_tensor.shape)\n",
    "print('y test shape: ', y_test_tensor.shape)"
   ]
  },
  {
   "cell_type": "code",
   "execution_count": 150,
   "metadata": {},
   "outputs": [
    {
     "name": "stdout",
     "output_type": "stream",
     "text": [
      "<torch.utils.data.dataset.TensorDataset object at 0x0000027C1746E8E0>\n",
      "<torch.utils.data.dataset.TensorDataset object at 0x0000027C1746E8E0>\n"
     ]
    }
   ],
   "source": [
    "# Create TensorDatasets\n",
    "train_dataset = TensorDataset(x_train_tensor, y_train_tensor)\n",
    "test_dataset = TensorDataset(x_test_tensor, y_test_tensor)\n",
    "\n",
    "# Create DataLoaders\n",
    "train_dataloader = DataLoader(train_dataset, batch_size=1, shuffle=False)\n",
    "test_dataloader = DataLoader(test_dataset, batch_size=1, shuffle=False)\n",
    "\n",
    "print(train_dataset)\n",
    "print(train_dataset)"
   ]
  },
  {
   "cell_type": "code",
   "execution_count": 164,
   "metadata": {},
   "outputs": [],
   "source": [
    "# Positional Encoding for Transformer\n",
    "class DecoderPositionalEncoding(nn.Module):\n",
    "    def __init__(self, d_model, dropout=0.1, max_len=20):\n",
    "        super(DecoderPositionalEncoding, self).__init__()\n",
    "        self.dropout = nn.Dropout(p=dropout)\n",
    "\n",
    "        pe = torch.zeros(max_len, d_model)\n",
    "        position = torch.arange(0, max_len, dtype=torch.float).unsqueeze(1)\n",
    "        div_term = torch.exp(torch.arange(0, d_model, 2).float() * (-np.log(10000.0) / d_model))\n",
    "        pe[:, 0::2] = torch.sin(position * div_term)\n",
    "        pe[:, 1::2] = torch.cos(position * div_term)\n",
    "        pe = pe.unsqueeze(0).transpose(0, 1)\n",
    "        self.register_buffer('pe', pe)\n",
    "\n",
    "    def forward(self, x):\n",
    "        x = x + self.pe[:x.size(0), :]\n",
    "        return self.dropout(x)\n",
    "\n",
    "\n",
    "# Model definition using Transformer\n",
    "class DecoderTransformerModel(nn.Module):\n",
    "    global num_timesteps\n",
    "    # attention head = 4\n",
    "    # encode layers = 2\n",
    "    # input seq of size 1 (1 token)\n",
    "    # embedding dim = 64\n",
    "    # dropout = 0.2 --> every training step each neuron has 20% chance of not contributing (to the forward pass and  being updated during backward pass)\n",
    "    def __init__(self, input_dim=num_timesteps, d_model=2, nhead=2, num_layers=1, dropout=0.2):\n",
    "        super(DecoderTransformerModel, self).__init__()\n",
    "\n",
    "        # info\n",
    "        self.model_type = \"Transformer\"\n",
    "        self.d_model = d_model\n",
    "\n",
    "        # define layers\n",
    "        #self.embedding = nn.Linear(input_dim, d_model) #(input eg [128,20] with nn.Linear(20,50) --> output [128,50])\n",
    "        self.pos_encoder = DecoderPositionalEncoding(d_model, dropout)\n",
    "        decoder_layers = nn.TransformerEncoderLayer(d_model, nhead, dim_feedforward=10, dropout=dropout, activation=\"relu\", layer_norm_eps=1e-05, batch_first=False, norm_first=False, bias=True, device=device)\n",
    "        self.transformer_decoder = nn.TransformerEncoder(decoder_layers, num_layers,mask_check=True)\n",
    "        self.linear = nn.Linear(d_model, 1)\n",
    "\n",
    "    def forward(self, x, decoder_mask=None):\n",
    "        #x = self.embedding(x)\n",
    "        x = self.pos_encoder(x)\n",
    "        x = self.transformer_decoder(x, decoder_mask)\n",
    "        x = self.linear(x[:, -1, :]) #the output from the last token of the sequence is passed through a linear layer to produce the final model output.\n",
    "        return x\n",
    "\n",
    "    def get_decoder_mask(self, size) -> torch.tensor:\n",
    "        # Generates a squeare matrix where the each row allows one element more to be seen\n",
    "        mask = torch.tril(torch.ones(size, size) == 1) # Lower triangular matrix\n",
    "        mask = mask.float()\n",
    "        mask = mask.masked_fill(mask == 0, float('-inf')) # Convert zeros to -inf\n",
    "        mask = mask.masked_fill(mask == 1, float(0.0)) # Convert ones to 0\n",
    "        #print('maask', mask)\n",
    "        # EX for size=5:\n",
    "        # [[0., -inf, -inf, -inf, -inf],\n",
    "        #  [0.,   0., -inf, -inf, -inf],\n",
    "        #  [0.,   0.,   0., -inf, -inf],\n",
    "        #  [0.,   0.,   0.,   0., -inf],\n",
    "        #  [0.,   0.,   0.,   0.,   0.]]\n",
    "\n",
    "        return mask\n",
    "\n",
    "decoder_model = DecoderTransformerModel().to(device)"
   ]
  },
  {
   "cell_type": "code",
   "execution_count": 167,
   "metadata": {},
   "outputs": [
    {
     "name": "stdout",
     "output_type": "stream",
     "text": [
      "Epoch 1/1000, Validation Loss: 3.3047\n",
      "Epoch 2/1000, Validation Loss: 3.3111\n",
      "Epoch 3/1000, Validation Loss: 3.3180\n",
      "Epoch 4/1000, Validation Loss: 3.3250\n",
      "Epoch 5/1000, Validation Loss: 3.3321\n",
      "Epoch 6/1000, Validation Loss: 3.3374\n",
      "Epoch 7/1000, Validation Loss: 3.3428\n",
      "Epoch 8/1000, Validation Loss: 3.3481\n",
      "Epoch 9/1000, Validation Loss: 3.3536\n",
      "Epoch 10/1000, Validation Loss: 3.3566\n",
      "Epoch 11/1000, Validation Loss: 3.3592\n",
      "Epoch 12/1000, Validation Loss: 3.3616\n",
      "Epoch 13/1000, Validation Loss: 3.3639\n",
      "Epoch 14/1000, Validation Loss: 3.3649\n",
      "Epoch 15/1000, Validation Loss: 3.3659\n",
      "Epoch 16/1000, Validation Loss: 3.3668\n",
      "Epoch 17/1000, Validation Loss: 3.3678\n",
      "Epoch 18/1000, Validation Loss: 3.3682\n",
      "Epoch 19/1000, Validation Loss: 3.3687\n",
      "Epoch 20/1000, Validation Loss: 3.3691\n",
      "Stopping!: Loss increasing\n"
     ]
    }
   ],
   "source": [
    "# Train the decoder model\n",
    "'''\n",
    "On CPU train time = 9 min 45s\n",
    "On google collab GPU the model is trained in a matter of seconds\n",
    "'''\n",
    "from torch.optim.lr_scheduler import ReduceLROnPlateau\n",
    "criterion = nn.MSELoss()\n",
    "optimizer = torch.optim.Adam(decoder_model.parameters(), lr=0.001)\n",
    "scheduler = ReduceLROnPlateau(optimizer, 'min', factor=0.5, patience=3, verbose=True)\n",
    "\n",
    "epochs = 1000\n",
    "early_stop_count = 0\n",
    "min_val_loss = float('inf')\n",
    "i = 0\n",
    "for epoch in range(epochs):\n",
    "    decoder_model.train()\n",
    "    for batch in train_dataloader:\n",
    "        x_batch, y_batch = batch\n",
    "        x_batch, y_batch = x_batch.to(device), y_batch.to(device)\n",
    "\n",
    "        # Get mask to mask out the next words\n",
    "        sequence_length = x_batch.size(0)\n",
    "        decoder_mask = decoder_model.get_decoder_mask(sequence_length).to(device)\n",
    "\n",
    "        optimizer.zero_grad()\n",
    "        outputs = decoder_model(x_batch,decoder_mask)\n",
    "        loss = criterion(outputs, y_batch)\n",
    "        loss.backward()\n",
    "        optimizer.step()\n",
    "\n",
    "    # Validation\n",
    "    decoder_model.eval()\n",
    "    val_losses = []\n",
    "    with torch.no_grad():\n",
    "        for batch in test_dataloader:\n",
    "            x_batch, y_batch = batch\n",
    "            x_batch, y_batch = x_batch.to(device), y_batch.to(device)\n",
    "            outputs = decoder_model(x_batch,decoder_mask)\n",
    "            loss = criterion(outputs, y_batch)\n",
    "            val_losses.append(loss.item())\n",
    "\n",
    "    val_loss = np.mean(val_losses)\n",
    "    scheduler.step(val_loss)\n",
    "\n",
    "    if val_loss <= min_val_loss:\n",
    "        min_val_loss = val_loss\n",
    "        early_stop_count = 0\n",
    "    else:\n",
    "        early_stop_count += 1\n",
    "\n",
    "    if early_stop_count >= 20:\n",
    "        print(\"Stopping: Loss increasing\")\n",
    "        break\n",
    "    print(f\"Epoch {epoch + 1}/{epochs}, Validation Loss: {val_loss:.4f}\")"
   ]
  },
  {
   "cell_type": "code",
   "execution_count": 168,
   "metadata": {},
   "outputs": [
    {
     "name": "stdout",
     "output_type": "stream",
     "text": [
      "Test RMSE: 1.83564996293901\n"
     ]
    },
    {
     "name": "stderr",
     "output_type": "stream",
     "text": [
      "C:\\Users\\sian_\\AppData\\Local\\Temp\\ipykernel_27948\\2377093126.py:22: UserWarning: Using a target size (torch.Size([3, 3])) that is different to the input size (torch.Size([3, 1])). This will likely lead to incorrect results due to broadcasting. Please ensure they have the same size.\n",
      "  mse = mse_loss(all_predictions, all_targets)\n"
     ]
    }
   ],
   "source": [
    "# Evaluation of decodr model\n",
    "from torch.nn.functional import mse_loss\n",
    "\n",
    "decoder_model.eval()\n",
    "all_predictions = []\n",
    "all_targets = []\n",
    "\n",
    "with torch.no_grad():\n",
    "    for batch in test_dataloader:\n",
    "        x_batch, y_batch = batch\n",
    "        output = decoder_model(x_batch)\n",
    "        \n",
    "        # Store predictions and targets\n",
    "        all_predictions.append(output)\n",
    "        all_targets.append(y_batch)\n",
    "\n",
    "# Concatenate all batches\n",
    "all_predictions = torch.cat(all_predictions, dim=0)\n",
    "all_targets = torch.cat(all_targets, dim=0)\n",
    "\n",
    "# Calculate MSE and then take the square root to get RMSE\n",
    "mse = mse_loss(all_predictions, all_targets)\n",
    "rmse = np.sqrt(mse.item())\n",
    "\n",
    "print(f'Test RMSE: {rmse}')\n",
    "\n",
    "#RMSE: The root mean square error (RMSE) measures the average difference between a statistical model’s predicted values and the actual values. \n",
    "# Mathematically, it is the standard deviation of the residuals. It is a non-standardized (0->inf) metric of a model's goodness of fit. \n",
    "# It uses the units of the dependent variable and gives a direct assessment of prediction precision. It is sensitive to outliers.\n",
    "# https://statisticsbyjim.com/regression/root-mean-square-error-rmse/\n",
    "\n",
    "#R-squared: A standardized (0->1) goodness of fit metric which is unitless. It is sensitive to outliers (see adjusted R-squared).\n",
    "#R-squared is the percentage of the response variable variation that is explained by a linear model (how close the data are to the fitted regression line).\n",
    "# R-squared = 1 - (SSR / SST)\n",
    "# The sum squared regression (SSR) is the sum of the squared differences between the predicted values and the actual values.\n",
    "# The total sum of squares (SST) represents the sum of the squares of the differences between each actual value and the overall mean of the data set.\n",
    "\n",
    "# Check back design of experiments course"
   ]
  }
 ],
 "metadata": {
  "kernelspec": {
   "display_name": "Python 3",
   "language": "python",
   "name": "python3"
  },
  "language_info": {
   "codemirror_mode": {
    "name": "ipython",
    "version": 3
   },
   "file_extension": ".py",
   "mimetype": "text/x-python",
   "name": "python",
   "nbconvert_exporter": "python",
   "pygments_lexer": "ipython3",
   "version": "3.8.17"
  }
 },
 "nbformat": 4,
 "nbformat_minor": 2
}
