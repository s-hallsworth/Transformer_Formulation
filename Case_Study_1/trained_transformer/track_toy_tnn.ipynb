{
 "cells": [
  {
   "cell_type": "code",
   "execution_count": 160,
   "metadata": {},
   "outputs": [
    {
     "name": "stdout",
     "output_type": "stream",
     "text": [
      "       time         u         x   delta_x  obs_num\n",
      "0  0.000000 -0.398684  0.000000  0.000000      1.0\n",
      "1  0.526316 -0.193558 -0.419668 -0.419668      1.0\n",
      "2  1.052632 -0.215139 -0.623413 -0.203745      1.0\n",
      "3  1.578947  0.830190 -0.849875 -0.226462      1.0\n",
      "4  2.105263  0.628167  0.024009  0.873884      1.0\n",
      "(300, 5)\n"
     ]
    }
   ],
   "source": [
    "import torch\n",
    "import math\n",
    "import pandas as pd\n",
    "import numpy as np\n",
    "from sklearn.preprocessing import MinMaxScaler, StandardScaler\n",
    "# following: https://www.geeksforgeeks.org/time-series-forecasting-using-pytorch/\n",
    "\n",
    "# Read data\n",
    "T = 10\n",
    "path = f\".\\\\data\\\\data_T{str(T)}_1.csv\"\n",
    "names = ['time', 'u' , 'x','delta_x', 'obs_num']\n",
    "df = pd.read_csv(path,sep=',', header=0, names=names,index_col=False)\n",
    "print(df.head())\n",
    "print(df.shape)\n",
    "\n",
    "\n"
   ]
  },
  {
   "cell_type": "code",
   "execution_count": 161,
   "metadata": {},
   "outputs": [
    {
     "name": "stdout",
     "output_type": "stream",
     "text": [
      "0.5263157894736842\n",
      "       time         u         x   delta_x  obs_num     dx_dt\n",
      "0  0.000000 -0.398684  0.000000  0.000000      1.0  0.000000\n",
      "1  0.526316 -0.193558 -0.419668 -0.419668      1.0 -0.797369\n",
      "2  1.052632 -0.215139 -0.623413 -0.203745      1.0 -0.387116\n",
      "3  1.578947  0.830190 -0.849875 -0.226462      1.0 -0.430278\n",
      "4  2.105263  0.628167  0.024009  0.873884      1.0  1.660380\n"
     ]
    }
   ],
   "source": [
    "delta_T = df[\"time\"][1] - df[\"time\"][0]\n",
    "print(delta_T)\n",
    "df['dx_dt'] = df[\"delta_x\"]/delta_T\n",
    "\n",
    "print(df.head())"
   ]
  },
  {
   "cell_type": "code",
   "execution_count": 162,
   "metadata": {},
   "outputs": [
    {
     "name": "stdout",
     "output_type": "stream",
     "text": [
      "       time         u         x   delta_x  obs_num     dx_dt\n",
      "1  0.526316 -0.193558 -0.419668 -0.419668      1.0 -0.797369\n",
      "2  1.052632 -0.215139 -0.623413 -0.203745      1.0 -0.387116\n",
      "3  1.578947  0.830190 -0.849875 -0.226462      1.0 -0.430278\n",
      "4  2.105263  0.628167  0.024009  0.873884      1.0  1.660380\n",
      "5  2.631579  0.552348  0.685237  0.661228      1.0  1.256333\n"
     ]
    }
   ],
   "source": [
    "df = df.loc[~((df['time'] == 0))]\n",
    "print(df.head())"
   ]
  },
  {
   "cell_type": "code",
   "execution_count": 163,
   "metadata": {},
   "outputs": [
    {
     "name": "stdout",
     "output_type": "stream",
     "text": [
      "228\n",
      "(228, 6) (57, 6)\n",
      "       time         u         x   delta_x  obs_num     dx_dt\n",
      "1  0.526316 -0.193558 -0.419668 -0.419668      1.0 -0.797369\n",
      "2  1.052632 -0.215139 -0.623413 -0.203745      1.0 -0.387116\n",
      "3  1.578947  0.830190 -0.849875 -0.226462      1.0 -0.430278\n",
      "4  2.105263  0.628167  0.024009  0.873884      1.0  1.660380\n",
      "5  2.631579  0.552348  0.685237  0.661228      1.0  1.256333\n"
     ]
    }
   ],
   "source": [
    "# Train test split\n",
    "training_data_len = math.ceil(len(df) * .8)\n",
    "print(training_data_len)\n",
    "\n",
    "# Splitting the dataset\n",
    "train_data = df[:training_data_len]\n",
    "test_data = df[training_data_len:]\n",
    "print(train_data.shape, test_data.shape)\n",
    "print(train_data.head())\n",
    "\n"
   ]
  },
  {
   "cell_type": "code",
   "execution_count": 164,
   "metadata": {},
   "outputs": [
    {
     "name": "stdout",
     "output_type": "stream",
     "text": [
      "(228, 6)\n",
      "       time         u         x   delta_x  obs_num     dx_dt\n",
      "0  0.000000  0.403056  0.334020  0.300406      0.0  0.300406\n",
      "1  0.055556  0.392256  0.318727  0.403056      0.0  0.403056\n",
      "2  0.111111  0.915359  0.301729  0.392256      0.0  0.392256\n",
      "3  0.166667  0.814263  0.367322  0.915359      0.0  0.915359\n",
      "4  0.222222  0.776322  0.416953  0.814263      0.0  0.814263\n",
      "(57, 6)\n"
     ]
    }
   ],
   "source": [
    "scaler = MinMaxScaler(feature_range=(0, 1)) # StandardScaler() # \n",
    "names.append(\"dx_dt\")\n",
    "# Scaling dataset\n",
    "scaled_train = scaler.fit_transform(train_data.to_numpy())\n",
    "scaled_train = pd.DataFrame(scaled_train, columns=names)\n",
    "print(scaled_train.shape)\n",
    "print(scaled_train.head())\n",
    "\n",
    "scaled_test = scaler.fit_transform(test_data.to_numpy())\n",
    "scaled_test = pd.DataFrame(scaled_test, columns=names)\n",
    "print(scaled_test.shape)\n"
   ]
  },
  {
   "cell_type": "code",
   "execution_count": 165,
   "metadata": {},
   "outputs": [],
   "source": [
    "# define positional encoding\n",
    "# def positional_encoding(T, d_model):\n",
    "#     # Initialize positional encoding matrix\n",
    "#     t= np.linspace(0, 1, num=T)\n",
    "#     pe = np.zeros((t.shape[0], d_model))\n",
    "    \n",
    "#     # Compute positional encodings\n",
    "#     for pos, time in enumerate(t):\n",
    "#         for i in range(d_model):\n",
    "#             if i % 2 == 0:\n",
    "#                 pe[pos, i] = np.sin(time / (10000 ** (2 * i / d_model)))\n",
    "#             else:\n",
    "#                 pe[pos, i] = np.cos(time / (10000 ** (2 * (i-1) / d_model)))\n",
    "    \n",
    "#     return np.array(pe)\n",
    "\n",
    "\n",
    "\n",
    "# ## Save data\n",
    "# ID = []\n",
    "# PE = []\n",
    "# d_model  = 1\n",
    "# N = 10\n",
    "\n",
    "# for i in range(N):\n",
    "#     PE += [positional_encoding(T-1, d_model)[:,d_model-1]]\n",
    "\n",
    "# PE = np.array(PE)\n",
    "# print(PE)\n",
    "# PE= PE.flatten()\n",
    "# print(PE.shape)"
   ]
  },
  {
   "cell_type": "code",
   "execution_count": 166,
   "metadata": {},
   "outputs": [],
   "source": [
    "# PE_train = PE[:training_data_len]\n",
    "# PE_test  = PE[training_data_len:]\n",
    "\n",
    "# scaled_train[\"u\"] = scaled_train[\"u\"] + PE_train\n",
    "# scaled_train[\"dx_dt\"] = scaled_train[\"dx_dt\"] + PE_train\n",
    "\n",
    "# scaled_test[\"u\"] = scaled_test[\"u\"] + PE_test\n",
    "# scaled_test[\"dx_dt\"] = scaled_test[\"dx_dt\"] + PE_test\n",
    "\n",
    "# print(scaled_train.head())\n",
    "# print(scaled_test.head())"
   ]
  },
  {
   "cell_type": "code",
   "execution_count": 169,
   "metadata": {},
   "outputs": [
    {
     "name": "stdout",
     "output_type": "stream",
     "text": [
      "torch.Size([226, 1, 1]) torch.Size([226, 1, 1])\n",
      "tensor([[0.4031]])\n",
      "tensor([[0.4031]])\n",
      "torch.Size([55, 1, 1]) torch.Size([55, 1, 1])\n"
     ]
    }
   ],
   "source": [
    "# Create sequences\n",
    "def to_sequences(seq_size, df):\n",
    "    obs_u = df['u'].tolist()\n",
    "    obs_x = df['x'].tolist()\n",
    "    obs_delta_x = df['delta_x'].tolist()\n",
    "    obs_dx_dt = df['dx_dt'].tolist()\n",
    "    x = []\n",
    "    y = []\n",
    "    pred_len = 1\n",
    "    \n",
    "    for i in range((len(obs_x))-seq_size - 1):\n",
    "        \n",
    "        # window1 = obs_x[i:(i+seq_size)]  # x at time t\n",
    "        # window2 = obs_u[i:(i+seq_size)]  # u at time t\n",
    "        window2 = [obs_u[i:(i+seq_size)]]  # u at time t\n",
    "        #after_window = [obs_delta_x[i+pred_len: i+seq_size + pred_len]]  # delta x at time t+1 ( x_t+1 - x_t = delta_x_t+1)\n",
    "        #after_window = [obs_dx_dt[i+pred_len: i+seq_size + pred_len]]\n",
    "        after_window = [obs_dx_dt[i+1: i+seq_size+1]]\n",
    "        #window = [[x, u] for x,u in zip(window1, window2)]\n",
    "        \n",
    "        #x.append(window)\n",
    "        x.append(window2)\n",
    "        y.append(after_window)\n",
    "\n",
    "    return np.array(x).transpose((0,2,1)), np.array(y).transpose(0,2,1)\n",
    "    #return np.array(x), np.array(y).transpose(0,2,1)\n",
    "sequence_size = 1\n",
    "\n",
    "X_train, y_train = to_sequences(sequence_size, scaled_train)\n",
    "\n",
    "\n",
    "# Convert data to PyTorch tensors\n",
    "X_train = torch.tensor(X_train, dtype=torch.float32)\n",
    "y_train = torch.tensor(y_train, dtype=torch.float32)\n",
    "print(X_train.shape, y_train.shape)\n",
    "print(X_train[0])\n",
    "print(y_train[0])\n",
    "\n",
    "# Create sequences and labels for testing data\n",
    "X_test,  y_test = to_sequences(sequence_size, scaled_test)\n",
    "# Convert data to PyTorch tensors\n",
    "X_test = torch.tensor(X_test, dtype=torch.float32)\n",
    "y_test = torch.tensor(y_test, dtype=torch.float32)\n",
    "print(X_test.shape, y_test.shape)"
   ]
  },
  {
   "cell_type": "code",
   "execution_count": 153,
   "metadata": {},
   "outputs": [
    {
     "name": "stderr",
     "output_type": "stream",
     "text": [
      "c:\\Users\\sian_\\OneDrive\\Documents\\Thesis\\MILP_Formulation\\pyomo_env\\lib\\site-packages\\torch\\nn\\modules\\transformer.py:286: UserWarning: enable_nested_tensor is True, but self.use_nested_tensor is False because encoder_layer.self_attn.num_heads is odd\n",
      "  warnings.warn(f\"enable_nested_tensor is True, but self.use_nested_tensor is False because {why_not_sparsity_fast_path}\")\n"
     ]
    }
   ],
   "source": [
    "# # create model\n",
    "tf_model = torch.torch.nn.Transformer(d_model= 1, nhead=1, num_encoder_layers=10, num_decoder_layers=10,dim_feedforward=256, batch_first=True)"
   ]
  },
  {
   "cell_type": "code",
   "execution_count": 154,
   "metadata": {},
   "outputs": [],
   "source": [
    "# import torch.nn as nn\n",
    "# import torch.optim as optim\n",
    "# from torch.utils.data import TensorDataset, DataLoader \n",
    "\n",
    "# torch.manual_seed(0)\n",
    "\n",
    "# # Hyperparameters\n",
    "# seq_length = 10  # Number of time steps to use for predictions\n",
    "# batch_size = 48\n",
    "# input_size = 2  \n",
    "# output_size = 1\n",
    "# hidden_size = 12\n",
    "# num_layers = 4\n",
    "# num_heads = 4\n",
    "# dropout = 0.1\n",
    "# num_epochs = 50\n",
    "# learning_rate = 0.01\n",
    "\n",
    "\n",
    "# # Create dataset and dataloaders\n",
    "# source = X_train\n",
    "# target = y_train\n",
    "# train_dataset = TensorDataset(source, target)\n",
    "# train_loader = DataLoader(train_dataset,  \n",
    "#                         batch_size=batch_size,  \n",
    "#                         shuffle=True)\n",
    "\n",
    "# # Define Transformer Model\n",
    "# class TimeSeriesTransformer(torch.nn.Module):\n",
    "#     def __init__(self, input_size, hidden_size, num_layers, num_heads, dropout, output_size):\n",
    "#         super(TimeSeriesTransformer, self).__init__()\n",
    "#         self.input_size = input_size\n",
    "#         self.hidden_size = hidden_size\n",
    "#         self.num_layers = num_layers\n",
    "#         self.num_heads = num_heads\n",
    "\n",
    "#         self.transformer = torch.nn.Transformer(\n",
    "#             d_model=hidden_size,\n",
    "#             nhead=num_heads,\n",
    "#             num_encoder_layers=num_layers,\n",
    "#             num_decoder_layers=num_layers,\n",
    "#             dropout=dropout,\n",
    "#         )\n",
    "\n",
    "#         self.fc_in = torch.nn.Linear(input_size, hidden_size)\n",
    "#         # self.linear_layer1 = torch.torch.nn.Linear(hidden_size, 128)\n",
    "#         # self.dropout_1     = torch.torch.nn.Dropout(p=dropout)\n",
    "#         self.fc_out = torch.nn.Linear(hidden_size, output_size)\n",
    "\n",
    "#     def forward(self, src, tgt):\n",
    "#         src = self.fc_in(src)  # Shape: [batch_size, seq_length, hidden_size]\n",
    "#         tgt = self.fc_in(tgt)\n",
    "\n",
    "#         # Transpose for compatibility with torch.nn.Transformer\n",
    "#         src = src.permute(1, 0, 2)  # Shape: [seq_length, batch_size, hidden_size]\n",
    "#         tgt = tgt.permute(1, 0, 2)\n",
    "\n",
    "#         output = self.transformer(src, tgt)  # Shape: [seq_length, batch_size, hidden_size]\n",
    "#         # output = self.linear_layer1(output)\n",
    "#         # output = self.dropout_1(output)\n",
    "#         output = self.fc_out(output)\n",
    "\n",
    "#         return output.permute(1, 0, 2)  # Shape: [batch_size, seq_length, input_size]\n",
    "\n",
    "\n",
    "# # Instantiate model, define loss and optimizer\n",
    "# model = TimeSeriesTransformer(\n",
    "#     input_size=input_size,\n",
    "#     hidden_size=hidden_size,\n",
    "#     num_layers=num_layers,\n",
    "#     num_heads=num_heads,\n",
    "#     dropout=dropout,\n",
    "#     output_size=output_size,\n",
    "# )\n",
    "\n",
    "# criterion = torch.nn.MSELoss()\n",
    "# optimizer = torch.optim.Adam(tf_model.parameters(),lr=0.01)\n",
    "\n",
    "# # Training loop\n",
    "# for epoch in range(num_epochs):\n",
    "#     model.train()\n",
    "#     train_loss = 0.0\n",
    "\n",
    "#     for src, tgt in train_loader:\n",
    "#         optimizer.zero_grad()\n",
    "#         output = model(src[:,:-1,:], src[:, 1:, :])  # We predict the next step, so target is shifted\n",
    "\n",
    "#         loss = criterion(output, tgt[:, 1:, :])\n",
    "#         loss.backward()\n",
    "#         optimizer.step()\n",
    "\n",
    "#         train_loss += loss.item() \n",
    "\n",
    "#     train_loss / len(list(train_loader))\n",
    "#     print(f\"Epoch {epoch + 1}/{num_epochs}, Loss: {train_loss:.4f}\")\n",
    "\n",
    "# print(\"Training completed.\")"
   ]
  },
  {
   "cell_type": "code",
   "execution_count": 155,
   "metadata": {},
   "outputs": [],
   "source": [
    "# torch.manual_seed(0)\n",
    "\n",
    "# from torch.utils.data import TensorDataset \n",
    "# from torch.utils.data import DataLoader \n",
    "\n",
    "# optimizer = torch.optim.SGD(tf_model.parameters(),lr=0.01)\n",
    "# loss_fn = torch.torch.nn.MSELoss()\n",
    "\n",
    "# def train_epoch(model, optimizer, sequence_size, batch_size=64):\n",
    "#     model.train()\n",
    "#     losses = 0 \n",
    "#     source = X_train\n",
    "#     target = X_train #X_train[1:, :, :]\n",
    "    \n",
    "#     src_mask = tf_model.generate_square_subsequent_mask(sequence_size)\n",
    "#     dataset = TensorDataset(source, target)\n",
    "#     train_dataloader = DataLoader(dataset,  \n",
    "#                         batch_size=batch_size,  \n",
    "#                         shuffle=True)\n",
    "#     for src, tgt in train_dataloader:\n",
    "        \n",
    "#         out = tf_model(src,tgt,src_mask)\n",
    "#         optimizer.zero_grad()\n",
    "        \n",
    "#         loss = loss_fn(out,tgt)\n",
    "#         loss.backward()\n",
    "        \n",
    "#         optimizer.step()\n",
    "#         losses += loss.item()\n",
    "#         print(loss.item())\n",
    "#     return losses / len(list(train_dataloader))\n",
    "\n",
    "# def evaluate(model, sequence_size, batch_size=64):\n",
    "#     model.eval()\n",
    "#     losses = 0 \n",
    "#     source = X_test\n",
    "#     target = X_test\n",
    "    \n",
    "#     src_mask = tf_model.generate_square_subsequent_mask(sequence_size)\n",
    "#     dataset = TensorDataset(source, target)\n",
    "#     test_dataloader = DataLoader(dataset,  \n",
    "#                         batch_size=batch_size,  \n",
    "#                         shuffle=True)\n",
    "#     for src, tgt in test_dataloader:\n",
    "#         out = tf_model(src,tgt,src_mask)\n",
    "        \n",
    "#         loss = loss_fn(out,tgt)\n",
    "#         losses += loss.item()\n",
    "#         print(loss.item())\n",
    "#     return losses / len(list(test_dataloader))\n"
   ]
  },
  {
   "cell_type": "code",
   "execution_count": 156,
   "metadata": {},
   "outputs": [],
   "source": [
    "# from timeit import default_timer as timer\n",
    "# NUM_EPOCHS = 2\n",
    "\n",
    "# for epoch in range(1, NUM_EPOCHS+1):\n",
    "#     start_time = timer()\n",
    "#     train_loss = train_epoch(tf_model, optimizer, sequence_size, 32)\n",
    "#     end_time = timer()\n",
    "#     print(\"---\")\n",
    "#     val_loss = evaluate(tf_model, sequence_size, 32)\n",
    "#     print((f\"Epoch: {epoch}, Train loss: {train_loss:.3f}, Val loss: {val_loss:.3f}, \"f\"Epoch time = {(end_time - start_time):.3f}s\"))\n"
   ]
  },
  {
   "cell_type": "code",
   "execution_count": 168,
   "metadata": {},
   "outputs": [],
   "source": [
    "# torch.manual_seed(0)\n",
    "\n",
    "# from torch.utils.data import TensorDataset \n",
    "# from torch.utils.data import DataLoader \n",
    "\n",
    "# optimizer = torch.optim.Adamax(tf_model.parameters(),lr=0.0001)\n",
    "# loss_fn = torch.torch.nn.MSELoss()\n",
    "\n",
    "# #avg_pool_layer = torch.torch.nn.AvgPool1d(2, stride=1)\n",
    "# linear_layer1 = torch.torch.nn.Linear(1, 128)\n",
    "# dropout_1     = torch.torch.nn.Dropout(p=0.1)\n",
    "# linear_layer2 = torch.torch.nn.Linear(128, 1)\n",
    "\n",
    "# def train_epoch(model, optimizer, sequence_size, batch_size=64):\n",
    "#     model.train()\n",
    "#     losses = 0 \n",
    "#     source = X_train\n",
    "#     target = y_train[:, 1: , :]\n",
    "    \n",
    "#     src_mask = tf_model.generate_square_subsequent_mask(sequence_size)\n",
    "#     dataset = TensorDataset(source, target)\n",
    "#     train_dataloader = DataLoader(dataset,  \n",
    "#                         batch_size=batch_size,  \n",
    "#                         shuffle=False)\n",
    "#     for src, tgt in train_dataloader:\n",
    "#         t_src = src[:, :-1, :]\n",
    "#         t_tgt = tgt\n",
    "#         out = tf_model(t_src, t_tgt,src_mask)\n",
    "#         #out = avg_pool_layer(out)\n",
    "#         out = linear_layer1(out)\n",
    "#         out = dropout_1(out)\n",
    "#         out = linear_layer2(out)\n",
    "#         optimizer.zero_grad()\n",
    "        \n",
    "#         loss = loss_fn(out,tgt)\n",
    "#         loss.backward()\n",
    "        \n",
    "#         optimizer.step()\n",
    "#         losses += loss.item()\n",
    "#         # print(loss.item())\n",
    "#     return losses / len(list(train_dataloader))\n",
    "\n",
    "# from timeit import default_timer as timer\n",
    "# NUM_EPOCHS = 400\n",
    "# batch_size = 1000\n",
    "# for epoch in range(1, NUM_EPOCHS+1):\n",
    "#     start_time = timer()\n",
    "#     train_loss = train_epoch(tf_model, optimizer, 9, batch_size)\n",
    "#     end_time = timer()\n",
    "#     print((f\"Epoch: {epoch}, Train loss: {train_loss:.3f} \"f\"Epoch time = {(end_time - start_time):.3f}s\"))\n",
    "\n"
   ]
  },
  {
   "cell_type": "code",
   "execution_count": 170,
   "metadata": {},
   "outputs": [],
   "source": [
    "from torch.utils.data import Dataset, DataLoader\n",
    "\n",
    "class TimeSeriesDataset(Dataset):\n",
    "    def __init__(self, X, Y):\n",
    "        self.X = X\n",
    "        self.Y = Y\n",
    "\n",
    "    def __len__(self):\n",
    "        return len(self.X)\n",
    "\n",
    "    def __getitem__(self, idx):\n",
    "        return self.X[idx], self.Y[idx]\n",
    "\n",
    "train_dataset = TimeSeriesDataset(X_train, y_train)\n",
    "train_loader = DataLoader(train_dataset, batch_size=32, shuffle=True)"
   ]
  },
  {
   "cell_type": "code",
   "execution_count": 172,
   "metadata": {},
   "outputs": [],
   "source": [
    "class TransformerModel(torch.nn.Module):\n",
    "    def __init__(self, input_dim, output_dim, d_model=64, nhead=4, num_encoder_layers=3, num_decoder_layers=3):\n",
    "        super(TransformerModel, self).__init__()\n",
    "        self.model_type = 'Transformer'\n",
    "        self.encoder = torch.nn.Linear(input_dim, d_model)\n",
    "        self.transformer = torch.nn.Transformer(d_model=d_model, nhead=nhead,\n",
    "                                          num_encoder_layers=num_encoder_layers,\n",
    "                                          num_decoder_layers=num_decoder_layers, batch_first=True)\n",
    "        self.decoder = torch.nn.Linear(d_model, output_dim)\n",
    "\n",
    "    def forward(self, src, tgt):\n",
    "        src = self.encoder(src)\n",
    "        tgt = self.encoder(tgt)\n",
    "        output = self.transformer(src, tgt)\n",
    "        output = self.decoder(output)\n",
    "        return output\n",
    "\n",
    "# Instantiate the model\n",
    "input_dim = 1  # Since u(t) is 1-dimensional\n",
    "output_dim = 1  # Since x(t) is 1-dimensional\n",
    "model = TransformerModel(input_dim, output_dim)\n",
    "\n",
    "# Define loss function and optimizer\n",
    "criterion = torch.nn.MSELoss()\n",
    "optimizer = torch.optim.Adam(model.parameters(), lr=0.001)\n"
   ]
  },
  {
   "cell_type": "code",
   "execution_count": 176,
   "metadata": {},
   "outputs": [
    {
     "name": "stdout",
     "output_type": "stream",
     "text": [
      "Epoch 1/200, Loss: 0.0159\n",
      "Epoch 2/200, Loss: 0.0169\n",
      "Epoch 3/200, Loss: 0.0130\n",
      "Epoch 4/200, Loss: 0.0111\n",
      "Epoch 5/200, Loss: 0.0110\n",
      "Epoch 6/200, Loss: 0.0111\n",
      "Epoch 7/200, Loss: 0.0099\n",
      "Training stopped early, loss is below 0.01.\n"
     ]
    }
   ],
   "source": [
    "# Training loop\n",
    "num_epochs = 200\n",
    "for epoch in range(num_epochs):\n",
    "    model.train()\n",
    "    total_loss = 0\n",
    "    for inputs, targets in train_loader:\n",
    "\n",
    "        # Zero the gradients\n",
    "        optimizer.zero_grad()\n",
    "\n",
    "        # Forward pass\n",
    "        output = model(inputs, inputs)\n",
    "        loss = criterion(output, targets)\n",
    "\n",
    "        # Backward pass and optimize\n",
    "        loss.backward()\n",
    "        optimizer.step()\n",
    "\n",
    "        total_loss += loss.item()\n",
    "    \n",
    "    avg_loss = total_loss / len(train_loader)\n",
    "    print(f'Epoch {epoch+1}/{num_epochs}, Loss: {avg_loss:.4f}')\n",
    "\n",
    "    # Early stopping if the loss is low enough\n",
    "    if avg_loss <= 0.01:\n",
    "        print(\"Training stopped early, loss is below 0.01.\")\n",
    "        break\n"
   ]
  },
  {
   "cell_type": "code",
   "execution_count": 182,
   "metadata": {},
   "outputs": [
    {
     "name": "stdout",
     "output_type": "stream",
     "text": [
      "Test MSE Loss: 0.0057\n"
     ]
    }
   ],
   "source": [
    "\n",
    "# Evaluate the model\n",
    "model.eval()\n",
    "outputs = []\n",
    "with torch.no_grad():\n",
    "    output = model(X_test, X_test)\n",
    "    outputs += output\n",
    "    test_loss = criterion(output, y_test)\n",
    "    print(f'Test MSE Loss: {test_loss.item():.4f}')\n"
   ]
  },
  {
   "cell_type": "code",
   "execution_count": 178,
   "metadata": {},
   "outputs": [],
   "source": [
    "# #save model\n",
    "model_path = \".\\\\trained_transformer\\\\toy_pytorch_model.pt\"\n",
    "torch.save(tf_model.state_dict(), model_path)"
   ]
  },
  {
   "cell_type": "code",
   "execution_count": 184,
   "metadata": {},
   "outputs": [
    {
     "name": "stdout",
     "output_type": "stream",
     "text": [
      "torch.Size([55, 1, 1]) (55, 1, 1)\n"
     ]
    }
   ],
   "source": [
    "outputs = np.array(outputs)\n",
    "print(X_test.shape, outputs.shape)"
   ]
  },
  {
   "cell_type": "code",
   "execution_count": 187,
   "metadata": {},
   "outputs": [
    {
     "data": {
      "text/plain": [
       "[<matplotlib.lines.Line2D at 0x2a1e18c3880>]"
      ]
     },
     "execution_count": 187,
     "metadata": {},
     "output_type": "execute_result"
    },
    {
     "data": {
      "image/png": "[encoded data removed]",
      "text/plain": [
       "<Figure size 600x400 with 1 Axes>"
      ]
     },
     "metadata": {},
     "output_type": "display_data"
    }
   ],
   "source": [
    "import matplotlib.pyplot as plt\n",
    "plt.figure(figsize=(6, 4))\n",
    "plt.plot(X_test[:,0,0], \"o\")\n",
    "plt.plot(outputs[:,0,0] , \"x\")"
   ]
  }
 ],
 "metadata": {
  "kernelspec": {
   "display_name": "pyomo_env",
   "language": "python",
   "name": "python3"
  },
  "language_info": {
   "codemirror_mode": {
    "name": "ipython",
    "version": 3
   },
   "file_extension": ".py",
   "mimetype": "text/x-python",
   "name": "python",
   "nbconvert_exporter": "python",
   "pygments_lexer": "ipython3",
   "version": "3.10.11"
  }
 },
 "nbformat": 4,
 "nbformat_minor": 2
}
