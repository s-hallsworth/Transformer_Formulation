{
 "cells": [
  {
   "cell_type": "code",
   "execution_count": 1,
   "metadata": {},
   "outputs": [
    {
     "name": "stdout",
     "output_type": "stream",
     "text": [
      "       time        x1          x2  obs_num\n",
      "0  0.000000  0.000000    0.000000      1.0\n",
      "1  0.102041  0.528525  137.491450      1.0\n",
      "2  0.204082  1.057050  265.172900      1.0\n",
      "3  0.306122  1.585575  383.044351      1.0\n",
      "4  0.408163  2.114100  491.105801      1.0\n",
      "(250, 4)\n"
     ]
    }
   ],
   "source": [
    "import torch\n",
    "import math\n",
    "import pandas as pd\n",
    "import numpy as np\n",
    "from sklearn.preprocessing import MinMaxScaler, StandardScaler\n",
    "# following: https://www.geeksforgeeks.org/time-series-forecasting-using-pytorch/\n",
    "\n",
    "# Read data\n",
    "T = 5\n",
    "path = f\"..\\\\data\\\\data_T{str(T)}.csv\"\n",
    "names = ['time', 'x1' , 'x2','obs_num']\n",
    "df = pd.read_csv(path,sep=',', header=0, names=names,index_col=False)\n",
    "print(df.head())\n",
    "print(df.shape)\n",
    "\n",
    "\n"
   ]
  },
  {
   "cell_type": "code",
   "execution_count": 2,
   "metadata": {},
   "outputs": [
    {
     "name": "stdout",
     "output_type": "stream",
     "text": [
      "(175, 4) (75, 4)\n",
      "       time        x1          x2  obs_num\n",
      "0  0.000000  0.000000    0.000000      1.0\n",
      "1  0.102041  0.528525  137.491450      1.0\n",
      "2  0.204082  1.057050  265.172900      1.0\n",
      "3  0.306122  1.585575  383.044351      1.0\n",
      "4  0.408163  2.114100  491.105801      1.0\n"
     ]
    }
   ],
   "source": [
    "# Train test split\n",
    "\n",
    "train_data = df[df['time']< (0.7 * T)]\n",
    "test_data = df[df['time']>= (0.7 * T)]\n",
    "print(train_data.shape, test_data.shape)\n",
    "print(train_data.head())\n",
    "\n"
   ]
  },
  {
   "cell_type": "code",
   "execution_count": 3,
   "metadata": {},
   "outputs": [],
   "source": [
    "scaler = MinMaxScaler(feature_range=(0, 1)) # StandardScaler() # \n",
    "\n",
    "# Scaling dataset\n",
    "scaled_train = scaler.fit_transform(train_data.to_numpy())\n",
    "scaled_train = pd.DataFrame(scaled_train, columns=names)\n",
    "print(scaled_train.shape)\n",
    "print(scaled_train.head())\n",
    "\n",
    "scaled_test = scaler.fit_transform(test_data.to_numpy())\n",
    "scaled_test = pd.DataFrame(scaled_test, columns=names)\n",
    "print(scaled_test.shape)\n"
   ]
  },
  {
   "cell_type": "code",
   "execution_count": 4,
   "metadata": {},
   "outputs": [],
   "source": [
    "# define positional encoding\n",
    "# def positional_encoding(T, d_model):\n",
    "#     # Initialize positional encoding matrix\n",
    "#     t= np.linspace(0, 1, num=T)\n",
    "#     pe = np.zeros((t.shape[0], d_model))\n",
    "    \n",
    "#     # Compute positional encodings\n",
    "#     for pos, time in enumerate(t):\n",
    "#         for i in range(d_model):\n",
    "#             if i % 2 == 0:\n",
    "#                 pe[pos, i] = np.sin(time / (10000 ** (2 * i / d_model)))\n",
    "#             else:\n",
    "#                 pe[pos, i] = np.cos(time / (10000 ** (2 * (i-1) / d_model)))\n",
    "    \n",
    "#     return np.array(pe)\n",
    "\n",
    "\n",
    "\n",
    "# ## Save data\n",
    "# ID = []\n",
    "# PE = []\n",
    "# d_model  = 1\n",
    "# N = 10\n",
    "\n",
    "# for i in range(N):\n",
    "#     PE += [positional_encoding(T-1, d_model)[:,d_model-1]]\n",
    "\n",
    "# PE = np.array(PE)\n",
    "# print(PE)\n",
    "# PE= PE.flatten()\n",
    "# print(PE.shape)"
   ]
  },
  {
   "cell_type": "code",
   "execution_count": 5,
   "metadata": {},
   "outputs": [],
   "source": [
    "# PE_train = PE[:training_data_len]\n",
    "# PE_test  = PE[training_data_len:]\n",
    "\n",
    "# scaled_train[\"u\"] = scaled_train[\"u\"] + PE_train\n",
    "# scaled_train[\"dx_dt\"] = scaled_train[\"dx_dt\"] + PE_train\n",
    "\n",
    "# scaled_test[\"u\"] = scaled_test[\"u\"] + PE_test\n",
    "# scaled_test[\"dx_dt\"] = scaled_test[\"dx_dt\"] + PE_test\n",
    "\n",
    "# print(scaled_train.head())\n",
    "# print(scaled_test.head())"
   ]
  },
  {
   "cell_type": "code",
   "execution_count": 6,
   "metadata": {},
   "outputs": [
    {
     "name": "stdout",
     "output_type": "stream",
     "text": [
      "torch.Size([164, 10, 2]) torch.Size([164, 10, 2])\n",
      "tensor([[0.0000e+00, 0.0000e+00],\n",
      "        [5.2852e-01, 1.3749e+02],\n",
      "        [1.0570e+00, 2.6517e+02],\n",
      "        [1.5856e+00, 3.8304e+02],\n",
      "        [2.1141e+00, 4.9111e+02],\n",
      "        [2.6426e+00, 5.8936e+02],\n",
      "        [3.1711e+00, 6.7780e+02],\n",
      "        [3.6997e+00, 7.5643e+02],\n",
      "        [4.2282e+00, 8.2525e+02],\n",
      "        [4.7567e+00, 8.8426e+02]])\n",
      "tensor([[5.2852e-01, 1.3749e+02],\n",
      "        [1.0570e+00, 2.6517e+02],\n",
      "        [1.5856e+00, 3.8304e+02],\n",
      "        [2.1141e+00, 4.9111e+02],\n",
      "        [2.6426e+00, 5.8936e+02],\n",
      "        [3.1711e+00, 6.7780e+02],\n",
      "        [3.6997e+00, 7.5643e+02],\n",
      "        [4.2282e+00, 8.2525e+02],\n",
      "        [4.7567e+00, 8.8426e+02],\n",
      "        [5.2852e+00, 9.3346e+02]])\n",
      "torch.Size([64, 10, 2]) torch.Size([64, 10, 2])\n"
     ]
    }
   ],
   "source": [
    "# Create sequences\n",
    "def to_sequences(seq_size, df, pred_len, overlap=0):\n",
    "    obs_x1 = df['x1'].tolist()\n",
    "    obs_x2 = df['x2'].tolist()\n",
    "    \n",
    "    x = []\n",
    "    y = []\n",
    "    \n",
    "    \n",
    "    for i in range((len(obs_x1))-seq_size - pred_len):\n",
    "        \n",
    "        window1 = obs_x1[i:(i+seq_size)]  # x at time t\n",
    "        window2 = obs_x2[i:(i+seq_size)]  # u at time t\n",
    "     \n",
    "        after_window1 = obs_x1[i+pred_len : i+seq_size+pred_len]  # delta x at time t+1 ( x_t+1 - x_t = delta_x_t+1)\n",
    "        after_window2 = obs_x2[i+pred_len : i+seq_size+pred_len]\n",
    "        \n",
    "        window = [[x, u] for x,u in zip(window1, window2)]\n",
    "        after_window = [[x, u] for x,u in zip(after_window1, after_window2)]\n",
    "        \n",
    "        x.append(window)\n",
    "        y.append(after_window)\n",
    "\n",
    "    #return np.array(x).transpose((0,2,1)), np.array(y).transpose(0,2,1)\n",
    "    return np.array(x), np.array(y)\n",
    "pred_len = 1\n",
    "sequence_size = 10\n",
    "\n",
    "X_train, y_train = to_sequences(sequence_size, scaled_train, pred_len)\n",
    "\n",
    "\n",
    "# Convert data to PyTorch tensors\n",
    "X_train = torch.tensor(X_train, dtype=torch.float32)\n",
    "y_train = torch.tensor(y_train, dtype=torch.float32)\n",
    "print(X_train.shape, y_train.shape)\n",
    "print(X_train[0])\n",
    "print(y_train[0])\n",
    "\n",
    "# Create sequences and labels for testing data\n",
    "X_test,  y_test = to_sequences(sequence_size, scaled_test, pred_len)\n",
    "# Convert data to PyTorch tensors\n",
    "X_test = torch.tensor(X_test, dtype=torch.float32)\n",
    "y_test = torch.tensor(y_test, dtype=torch.float32)\n",
    "print(X_test.shape, y_test.shape)"
   ]
  },
  {
   "cell_type": "code",
   "execution_count": 7,
   "metadata": {},
   "outputs": [],
   "source": [
    "from torch.utils.data import Dataset, DataLoader\n",
    "\n",
    "class TimeSeriesDataset(Dataset):\n",
    "    def __init__(self, X, Y):\n",
    "        self.X = X\n",
    "        self.Y = Y\n",
    "\n",
    "    def __len__(self):\n",
    "        return len(self.X)\n",
    "\n",
    "    def __getitem__(self, idx):\n",
    "        return self.X[idx], self.Y[idx]\n",
    "\n",
    "train_dataset = TimeSeriesDataset(X_train, y_train)\n",
    "train_loader = DataLoader(train_dataset, batch_size=32, shuffle=True)"
   ]
  },
  {
   "cell_type": "code",
   "execution_count": 8,
   "metadata": {},
   "outputs": [
    {
     "name": "stderr",
     "output_type": "stream",
     "text": [
      "c:\\Users\\sian_\\OneDrive\\Documents\\Thesis\\MILP_Formulation\\pyomo_env\\lib\\site-packages\\tqdm\\auto.py:21: TqdmWarning: IProgress not found. Please update jupyter and ipywidgets. See https://ipywidgets.readthedocs.io/en/stable/user_install.html\n",
      "  from .autonotebook import tqdm as notebook_tqdm\n"
     ]
    }
   ],
   "source": [
    "# class TransformerModel(torch.nn.Module):\n",
    "#     def __init__(self, input_dim, output_dim, d_model=64, nhead=4, num_encoder_layers=3, num_decoder_layers=3):\n",
    "#         super(TransformerModel, self).__init__()\n",
    "#         self.model_type = 'Transformer'\n",
    "#         self.linear1 = torch.nn.Linear(input_dim, d_model)\n",
    "#         self.transformer = torch.nn.Transformer(d_model=d_model, nhead=nhead,\n",
    "#                                           num_encoder_layers=num_encoder_layers,\n",
    "#                                           num_decoder_layers=num_decoder_layers, batch_first=True)\n",
    "#         self.linear2 = torch.nn.Linear(d_model, output_dim)\n",
    "\n",
    "#     def forward(self, src, tgt, sequence_size):\n",
    "#         src = self.linear1(src)\n",
    "#         tgt = self.linear1(tgt)\n",
    "        \n",
    "#         src_mask = self.transformer.generate_square_subsequent_mask(sequence_size)\n",
    "#         output = self.transformer(src, tgt, src_mask)\n",
    "#         output = self.linear2(output)\n",
    "#         return output\n",
    "from Tmodel import TransformerModel\n",
    "\n",
    "# Instantiate the model\n",
    "input_dim = 2  \n",
    "output_dim = 2  \n",
    "model = TransformerModel(input_dim, output_dim)\n",
    "\n",
    "# Define loss function and optimizer\n",
    "criterion = torch.nn.MSELoss()\n",
    "optimizer = torch.optim.Adam(model.parameters(), lr=0.001)\n"
   ]
  },
  {
   "cell_type": "code",
   "execution_count": 9,
   "metadata": {},
   "outputs": [
    {
     "name": "stdout",
     "output_type": "stream",
     "text": [
      "Epoch 1/1200, Loss: 992580.8438\n",
      "Epoch 2/1200, Loss: 899839.9479\n",
      "Epoch 3/1200, Loss: 1050328.2292\n",
      "Epoch 4/1200, Loss: 976885.1875\n",
      "Epoch 5/1200, Loss: 1006953.1615\n",
      "Epoch 6/1200, Loss: 1231079.0104\n",
      "Epoch 7/1200, Loss: 947844.4792\n",
      "Epoch 8/1200, Loss: 921328.7083\n",
      "Epoch 9/1200, Loss: 901809.2708\n",
      "Epoch 10/1200, Loss: 964075.2708\n",
      "Epoch 11/1200, Loss: 959151.9688\n",
      "Epoch 12/1200, Loss: 892168.9479\n",
      "Epoch 13/1200, Loss: 1212474.9635\n",
      "Epoch 14/1200, Loss: 989190.0417\n",
      "Epoch 15/1200, Loss: 1081669.0625\n",
      "Epoch 16/1200, Loss: 1178785.4583\n",
      "Epoch 17/1200, Loss: 899712.6875\n",
      "Epoch 18/1200, Loss: 883709.0208\n",
      "Epoch 19/1200, Loss: 1140452.1458\n",
      "Epoch 20/1200, Loss: 970869.9688\n",
      "Epoch 21/1200, Loss: 1020741.5208\n",
      "Epoch 22/1200, Loss: 971824.5833\n",
      "Epoch 23/1200, Loss: 1239823.6250\n",
      "Epoch 24/1200, Loss: 870616.2396\n",
      "Epoch 25/1200, Loss: 1030516.7500\n",
      "Epoch 26/1200, Loss: 852628.1947\n",
      "Epoch 27/1200, Loss: 1007120.2812\n",
      "Epoch 28/1200, Loss: 919162.7917\n",
      "Epoch 29/1200, Loss: 1009020.0417\n",
      "Epoch 30/1200, Loss: 897641.6927\n",
      "Epoch 31/1200, Loss: 968477.3854\n",
      "Epoch 32/1200, Loss: 1001021.9167\n",
      "Epoch 33/1200, Loss: 890076.2604\n",
      "Epoch 34/1200, Loss: 1067821.7083\n",
      "Epoch 35/1200, Loss: 889181.6458\n"
     ]
    },
    {
     "ename": "KeyboardInterrupt",
     "evalue": "",
     "output_type": "error",
     "traceback": [
      "\u001b[1;31m---------------------------------------------------------------------------\u001b[0m",
      "\u001b[1;31mKeyboardInterrupt\u001b[0m                         Traceback (most recent call last)",
      "Cell \u001b[1;32mIn[9], line 17\u001b[0m\n\u001b[0;32m     14\u001b[0m loss \u001b[38;5;241m=\u001b[39m criterion(output, targets)\n\u001b[0;32m     16\u001b[0m \u001b[38;5;66;03m# Backward pass and optimize\u001b[39;00m\n\u001b[1;32m---> 17\u001b[0m \u001b[43mloss\u001b[49m\u001b[38;5;241;43m.\u001b[39;49m\u001b[43mbackward\u001b[49m\u001b[43m(\u001b[49m\u001b[43m)\u001b[49m\n\u001b[0;32m     18\u001b[0m optimizer\u001b[38;5;241m.\u001b[39mstep()\n\u001b[0;32m     20\u001b[0m total_loss \u001b[38;5;241m+\u001b[39m\u001b[38;5;241m=\u001b[39m loss\u001b[38;5;241m.\u001b[39mitem()\n",
      "File \u001b[1;32mc:\\Users\\sian_\\OneDrive\\Documents\\Thesis\\MILP_Formulation\\pyomo_env\\lib\\site-packages\\torch\\_tensor.py:522\u001b[0m, in \u001b[0;36mTensor.backward\u001b[1;34m(self, gradient, retain_graph, create_graph, inputs)\u001b[0m\n\u001b[0;32m    512\u001b[0m \u001b[38;5;28;01mif\u001b[39;00m has_torch_function_unary(\u001b[38;5;28mself\u001b[39m):\n\u001b[0;32m    513\u001b[0m     \u001b[38;5;28;01mreturn\u001b[39;00m handle_torch_function(\n\u001b[0;32m    514\u001b[0m         Tensor\u001b[38;5;241m.\u001b[39mbackward,\n\u001b[0;32m    515\u001b[0m         (\u001b[38;5;28mself\u001b[39m,),\n\u001b[1;32m   (...)\u001b[0m\n\u001b[0;32m    520\u001b[0m         inputs\u001b[38;5;241m=\u001b[39minputs,\n\u001b[0;32m    521\u001b[0m     )\n\u001b[1;32m--> 522\u001b[0m \u001b[43mtorch\u001b[49m\u001b[38;5;241;43m.\u001b[39;49m\u001b[43mautograd\u001b[49m\u001b[38;5;241;43m.\u001b[39;49m\u001b[43mbackward\u001b[49m\u001b[43m(\u001b[49m\n\u001b[0;32m    523\u001b[0m \u001b[43m    \u001b[49m\u001b[38;5;28;43mself\u001b[39;49m\u001b[43m,\u001b[49m\u001b[43m \u001b[49m\u001b[43mgradient\u001b[49m\u001b[43m,\u001b[49m\u001b[43m \u001b[49m\u001b[43mretain_graph\u001b[49m\u001b[43m,\u001b[49m\u001b[43m \u001b[49m\u001b[43mcreate_graph\u001b[49m\u001b[43m,\u001b[49m\u001b[43m \u001b[49m\u001b[43minputs\u001b[49m\u001b[38;5;241;43m=\u001b[39;49m\u001b[43minputs\u001b[49m\n\u001b[0;32m    524\u001b[0m \u001b[43m\u001b[49m\u001b[43m)\u001b[49m\n",
      "File \u001b[1;32mc:\\Users\\sian_\\OneDrive\\Documents\\Thesis\\MILP_Formulation\\pyomo_env\\lib\\site-packages\\torch\\autograd\\__init__.py:266\u001b[0m, in \u001b[0;36mbackward\u001b[1;34m(tensors, grad_tensors, retain_graph, create_graph, grad_variables, inputs)\u001b[0m\n\u001b[0;32m    261\u001b[0m     retain_graph \u001b[38;5;241m=\u001b[39m create_graph\n\u001b[0;32m    263\u001b[0m \u001b[38;5;66;03m# The reason we repeat the same comment below is that\u001b[39;00m\n\u001b[0;32m    264\u001b[0m \u001b[38;5;66;03m# some Python versions print out the first line of a multi-line function\u001b[39;00m\n\u001b[0;32m    265\u001b[0m \u001b[38;5;66;03m# calls in the traceback and some print out the last line\u001b[39;00m\n\u001b[1;32m--> 266\u001b[0m \u001b[43mVariable\u001b[49m\u001b[38;5;241;43m.\u001b[39;49m\u001b[43m_execution_engine\u001b[49m\u001b[38;5;241;43m.\u001b[39;49m\u001b[43mrun_backward\u001b[49m\u001b[43m(\u001b[49m\u001b[43m  \u001b[49m\u001b[38;5;66;43;03m# Calls into the C++ engine to run the backward pass\u001b[39;49;00m\n\u001b[0;32m    267\u001b[0m \u001b[43m    \u001b[49m\u001b[43mtensors\u001b[49m\u001b[43m,\u001b[49m\n\u001b[0;32m    268\u001b[0m \u001b[43m    \u001b[49m\u001b[43mgrad_tensors_\u001b[49m\u001b[43m,\u001b[49m\n\u001b[0;32m    269\u001b[0m \u001b[43m    \u001b[49m\u001b[43mretain_graph\u001b[49m\u001b[43m,\u001b[49m\n\u001b[0;32m    270\u001b[0m \u001b[43m    \u001b[49m\u001b[43mcreate_graph\u001b[49m\u001b[43m,\u001b[49m\n\u001b[0;32m    271\u001b[0m \u001b[43m    \u001b[49m\u001b[43minputs\u001b[49m\u001b[43m,\u001b[49m\n\u001b[0;32m    272\u001b[0m \u001b[43m    \u001b[49m\u001b[43mallow_unreachable\u001b[49m\u001b[38;5;241;43m=\u001b[39;49m\u001b[38;5;28;43;01mTrue\u001b[39;49;00m\u001b[43m,\u001b[49m\n\u001b[0;32m    273\u001b[0m \u001b[43m    \u001b[49m\u001b[43maccumulate_grad\u001b[49m\u001b[38;5;241;43m=\u001b[39;49m\u001b[38;5;28;43;01mTrue\u001b[39;49;00m\u001b[43m,\u001b[49m\n\u001b[0;32m    274\u001b[0m \u001b[43m\u001b[49m\u001b[43m)\u001b[49m\n",
      "\u001b[1;31mKeyboardInterrupt\u001b[0m: "
     ]
    }
   ],
   "source": [
    "# Training loop\n",
    "num_epochs = 1200\n",
    "\n",
    "for epoch in range(num_epochs):\n",
    "    model.train()\n",
    "    total_loss = 0\n",
    "    for inputs, targets in train_loader:\n",
    "\n",
    "        # Zero the gradients\n",
    "        optimizer.zero_grad()\n",
    "\n",
    "        # Forward pass\n",
    "        output = model(inputs, targets, sequence_size)\n",
    "        loss = criterion(output, targets)\n",
    "\n",
    "        # Backward pass and optimize\n",
    "        loss.backward()\n",
    "        optimizer.step()\n",
    "\n",
    "        total_loss += loss.item()\n",
    "    \n",
    "    avg_loss = total_loss / len(train_loader)\n",
    "    print(f'Epoch {epoch+1}/{num_epochs}, Loss: {avg_loss:.4f}')\n",
    "\n",
    "    # Early stopping if the loss is low enough\n",
    "    if avg_loss <= 0.0001:\n",
    "        print(\"Training stopped early, loss is below 0.01.\")\n",
    "        break\n"
   ]
  },
  {
   "cell_type": "code",
   "execution_count": null,
   "metadata": {},
   "outputs": [
    {
     "name": "stdout",
     "output_type": "stream",
     "text": [
      "Test MSE Loss: 0.0209\n"
     ]
    }
   ],
   "source": [
    "\n",
    "# Evaluate the model\n",
    "model.eval()\n",
    "outputs = []\n",
    "with torch.no_grad():\n",
    "    output = model(X_test, X_test, sequence_size)\n",
    "    outputs += output\n",
    "    test_loss = criterion(output, y_test)\n",
    "    print(f'Test MSE Loss: {test_loss.item():.4f}')\n"
   ]
  },
  {
   "cell_type": "code",
   "execution_count": null,
   "metadata": {},
   "outputs": [],
   "source": [
    "# #save model\n",
    "#model_path = \".\\\\toy_pytorch_model_n.pt\"\n",
    "torch.save(model.state_dict(), model_path)"
   ]
  },
  {
   "cell_type": "code",
   "execution_count": null,
   "metadata": {},
   "outputs": [
    {
     "name": "stdout",
     "output_type": "stream",
     "text": [
      "torch.Size([64, 10, 2]) (64, 10, 2)\n"
     ]
    }
   ],
   "source": [
    "outputs = np.array(outputs)\n",
    "print(X_test.shape, outputs.shape)"
   ]
  },
  {
   "cell_type": "code",
   "execution_count": null,
   "metadata": {},
   "outputs": [
    {
     "data": {
      "image/png": "[encoded data removed]",
      "text/plain": [
       "<Figure size 600x400 with 1 Axes>"
      ]
     },
     "metadata": {},
     "output_type": "display_data"
    },
    {
     "data": {
      "image/png": "[encoded data removed]",
      "text/plain": [
       "<Figure size 600x400 with 1 Axes>"
      ]
     },
     "metadata": {},
     "output_type": "display_data"
    },
    {
     "data": {
      "image/png": "[encoded data removed]",
      "text/plain": [
       "<Figure size 600x400 with 1 Axes>"
      ]
     },
     "metadata": {},
     "output_type": "display_data"
    }
   ],
   "source": [
    "# display test results\n",
    "import matplotlib.pyplot as plt\n",
    "for i in [0, 1, 2]:\n",
    "    \n",
    "    plt.figure(i, figsize=(6, 4))\n",
    "    plt.plot(X_test[i,:,0], \"o\", label='X test x1')\n",
    "    plt.plot(outputs[i,:,0] , \"x\", label='X out x1')\n",
    "    plt.plot(X_test[i,:,1], \"o\", label='X test x2')\n",
    "    plt.plot(outputs[i,:,1] , \"x\", label='X out x1')\n",
    "    plt.legend()"
   ]
  },
  {
   "cell_type": "code",
   "execution_count": null,
   "metadata": {},
   "outputs": [
    {
     "name": "stdout",
     "output_type": "stream",
     "text": [
      "====================================================================================================\n",
      "Layer (type:depth-idx)                             Output Shape              Param #\n",
      "====================================================================================================\n",
      "TransformerModel                                   [64, 10, 2]               --\n",
      "├─Linear: 1-1                                      [64, 10, 64]              192\n",
      "├─Linear: 1-2                                      [64, 10, 64]              (recursive)\n",
      "├─Transformer: 1-3                                 [64, 10, 64]              --\n",
      "│    └─TransformerEncoder: 2-1                     [64, 10, 64]              --\n",
      "│    │    └─ModuleList: 3-1                        --                        843,456\n",
      "│    │    └─LayerNorm: 3-2                         [64, 10, 64]              128\n",
      "│    └─TransformerDecoder: 2-2                     [64, 10, 64]              --\n",
      "│    │    └─ModuleList: 3-3                        --                        893,760\n",
      "│    │    └─LayerNorm: 3-4                         [64, 10, 64]              128\n",
      "├─Linear: 1-4                                      [64, 10, 2]               130\n",
      "====================================================================================================\n",
      "Total params: 1,737,794\n",
      "Trainable params: 1,737,794\n",
      "Non-trainable params: 0\n",
      "Total mult-adds (M): 50.86\n",
      "====================================================================================================\n",
      "Input size (MB): 0.01\n",
      "Forward/backward pass size (MB): 36.71\n",
      "Params size (MB): 3.18\n",
      "Estimated Total Size (MB): 39.90\n",
      "====================================================================================================\n"
     ]
    }
   ],
   "source": [
    "from torchinfo import summary\n",
    "\n",
    "print(summary(model, input_data=(X_test, X_test, sequence_size)))"
   ]
  }
 ],
 "metadata": {
  "kernelspec": {
   "display_name": "pyomo_env",
   "language": "python",
   "name": "python3"
  },
  "language_info": {
   "codemirror_mode": {
    "name": "ipython",
    "version": 3
   },
   "file_extension": ".py",
   "mimetype": "text/x-python",
   "name": "python",
   "nbconvert_exporter": "python",
   "pygments_lexer": "ipython3",
   "version": "3.10.11"
  }
 },
 "nbformat": 4,
 "nbformat_minor": 2
}
