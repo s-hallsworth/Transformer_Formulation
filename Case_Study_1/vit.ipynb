{
  "cells": [
    {
      "cell_type": "markdown",
      "metadata": {
        "id": "eR3X8KNXVkGj"
      },
      "source": [
        "\n",
        "# Transformers in Computer Vision\n",
        "\n",
        "\n",
        "\n",
        "Transformer architectures owe their origins in natural language processing (NLP), and indeed form the core of the current state of the art models for most NLP applications.\n",
        "\n",
        "We will now see how to develop transformers for processing image data (and in fact, this line of deep learning research has been gaining a lot of attention in 2021). The *Vision Transformer* (ViT) introduced in [this paper](https://arxiv.org/pdf/2010.11929.pdf) shows how standard transformer architectures can perform very well on image. The high level idea is to extract patches from images, treat them as tokens, and pass them through a sequence of transformer blocks before throwing on a couple of dense classification layers at the very end.\n",
        "\n",
        "\n",
        "Some caveats to keep in mind:\n",
        "- ViT models are very cumbersome to train (since they involve a ton of parameters) so budget accordingly.\n",
        "- ViT models are a bit hard to interpret (even more so than regular convnets).\n",
        "- Finally, while in this notebook we will train a transformer from scratch, ViT models in practice are almost always *pre-trained* on some large dataset (such as ImageNet) before being transferred onto specific training datasets.\n",
        "\n",
        "\n",
        "\n"
      ]
    },
    {
      "cell_type": "markdown",
      "metadata": {
        "id": "U1m4W8BCYCG_"
      },
      "source": [
        "# Setup\n",
        "\n",
        "As usual, we start with basic data loading and preprocessing."
      ]
    },
    {
      "cell_type": "code",
      "execution_count": 1,
      "metadata": {
        "colab": {
          "base_uri": "https://localhost:8080/"
        },
        "id": "GcX3S4xjEoGD",
        "outputId": "3b693e34-d392-435d-8753-c51b45a1cba2"
      },
      "outputs": [
        {
          "name": "stdout",
          "output_type": "stream",
          "text": [
            "Looking in indexes: https://pypi.org/simple, https://pypi.ngc.nvidia.com\n",
            "Requirement already satisfied: einops in c:\\users\\shallsworth\\appdata\\local\\packages\\pythonsoftwarefoundation.python.3.10_qbz5n2kfra8p0\\localcache\\local-packages\\python310\\site-packages (0.8.0)\n"
          ]
        },
        {
          "name": "stderr",
          "output_type": "stream",
          "text": [
            "\n",
            "[notice] A new release of pip is available: 23.0.1 -> 24.2\n",
            "[notice] To update, run: C:\\Users\\shallsworth\\AppData\\Local\\Microsoft\\WindowsApps\\PythonSoftwareFoundation.Python.3.10_qbz5n2kfra8p0\\python.exe -m pip install --upgrade pip\n"
          ]
        }
      ],
      "source": [
        "!pip install einops"
      ]
    },
    {
      "cell_type": "code",
      "execution_count": 2,
      "metadata": {
        "colab": {
          "base_uri": "https://localhost:8080/"
        },
        "id": "CT9dVKDXIEW2",
        "outputId": "324ca9c6-c566-4142-dcf8-8d77873dca05"
      },
      "outputs": [
        {
          "name": "stdout",
          "output_type": "stream",
          "text": [
            "Looking in indexes: https://pypi.org/simple, https://pypi.ngc.nvidia.com\n",
            "Requirement already satisfied: torchinfo in c:\\users\\shallsworth\\appdata\\local\\packages\\pythonsoftwarefoundation.python.3.10_qbz5n2kfra8p0\\localcache\\local-packages\\python310\\site-packages (1.8.0)\n"
          ]
        },
        {
          "name": "stderr",
          "output_type": "stream",
          "text": [
            "\n",
            "[notice] A new release of pip is available: 23.0.1 -> 24.2\n",
            "[notice] To update, run: C:\\Users\\shallsworth\\AppData\\Local\\Microsoft\\WindowsApps\\PythonSoftwareFoundation.Python.3.10_qbz5n2kfra8p0\\python.exe -m pip install --upgrade pip\n"
          ]
        }
      ],
      "source": [
        "!pip install torchinfo"
      ]
    },
    {
      "cell_type": "code",
      "execution_count": 3,
      "metadata": {},
      "outputs": [
        {
          "name": "stdout",
          "output_type": "stream",
          "text": [
            "Looking in indexes: https://pypi.org/simple, https://pypi.ngc.nvidia.com\n",
            "Collecting torchvision\n",
            "  Downloading torchvision-0.19.1-cp310-cp310-win_amd64.whl (1.3 MB)\n",
            "     ---------------------------------------- 0.0/1.3 MB ? eta -:--:--\n",
            "     ---- ----------------------------------- 0.1/1.3 MB 4.3 MB/s eta 0:00:01\n",
            "     ----------- ---------------------------- 0.4/1.3 MB 4.7 MB/s eta 0:00:01\n",
            "     ------------------ --------------------- 0.6/1.3 MB 4.8 MB/s eta 0:00:01\n",
            "     ------------------------ --------------- 0.8/1.3 MB 4.6 MB/s eta 0:00:01\n",
            "     ------------------------------- -------- 1.0/1.3 MB 4.6 MB/s eta 0:00:01\n",
            "     ------------------------------------- -- 1.2/1.3 MB 4.5 MB/s eta 0:00:01\n",
            "     ---------------------------------------- 1.3/1.3 MB 4.3 MB/s eta 0:00:00\n",
            "Requirement already satisfied: pillow!=8.3.*,>=5.3.0 in c:\\users\\shallsworth\\appdata\\local\\packages\\pythonsoftwarefoundation.python.3.10_qbz5n2kfra8p0\\localcache\\local-packages\\python310\\site-packages (from torchvision) (10.3.0)\n",
            "Requirement already satisfied: torch==2.4.1 in c:\\users\\shallsworth\\appdata\\local\\packages\\pythonsoftwarefoundation.python.3.10_qbz5n2kfra8p0\\localcache\\local-packages\\python310\\site-packages (from torchvision) (2.4.1)\n",
            "Requirement already satisfied: numpy in c:\\users\\shallsworth\\appdata\\local\\packages\\pythonsoftwarefoundation.python.3.10_qbz5n2kfra8p0\\localcache\\local-packages\\python310\\site-packages (from torchvision) (1.26.4)\n",
            "Requirement already satisfied: fsspec in c:\\users\\shallsworth\\appdata\\local\\packages\\pythonsoftwarefoundation.python.3.10_qbz5n2kfra8p0\\localcache\\local-packages\\python310\\site-packages (from torch==2.4.1->torchvision) (2024.9.0)\n",
            "Requirement already satisfied: typing-extensions>=4.8.0 in c:\\users\\shallsworth\\appdata\\local\\packages\\pythonsoftwarefoundation.python.3.10_qbz5n2kfra8p0\\localcache\\local-packages\\python310\\site-packages (from torch==2.4.1->torchvision) (4.11.0)\n",
            "Requirement already satisfied: filelock in c:\\users\\shallsworth\\appdata\\local\\packages\\pythonsoftwarefoundation.python.3.10_qbz5n2kfra8p0\\localcache\\local-packages\\python310\\site-packages (from torch==2.4.1->torchvision) (3.16.0)\n",
            "Requirement already satisfied: jinja2 in c:\\users\\shallsworth\\appdata\\local\\packages\\pythonsoftwarefoundation.python.3.10_qbz5n2kfra8p0\\localcache\\local-packages\\python310\\site-packages (from torch==2.4.1->torchvision) (3.1.4)\n",
            "Requirement already satisfied: sympy in c:\\users\\shallsworth\\appdata\\local\\packages\\pythonsoftwarefoundation.python.3.10_qbz5n2kfra8p0\\localcache\\local-packages\\python310\\site-packages (from torch==2.4.1->torchvision) (1.13.2)\n",
            "Requirement already satisfied: networkx in c:\\users\\shallsworth\\appdata\\local\\packages\\pythonsoftwarefoundation.python.3.10_qbz5n2kfra8p0\\localcache\\local-packages\\python310\\site-packages (from torch==2.4.1->torchvision) (3.3)\n",
            "Requirement already satisfied: MarkupSafe>=2.0 in c:\\users\\shallsworth\\appdata\\local\\packages\\pythonsoftwarefoundation.python.3.10_qbz5n2kfra8p0\\localcache\\local-packages\\python310\\site-packages (from jinja2->torch==2.4.1->torchvision) (2.1.5)\n",
            "Requirement already satisfied: mpmath<1.4,>=1.1.0 in c:\\users\\shallsworth\\appdata\\local\\packages\\pythonsoftwarefoundation.python.3.10_qbz5n2kfra8p0\\localcache\\local-packages\\python310\\site-packages (from sympy->torch==2.4.1->torchvision) (1.3.0)\n",
            "Installing collected packages: torchvision\n",
            "Successfully installed torchvision-0.19.1\n"
          ]
        },
        {
          "name": "stderr",
          "output_type": "stream",
          "text": [
            "\n",
            "[notice] A new release of pip is available: 23.0.1 -> 24.2\n",
            "[notice] To update, run: C:\\Users\\shallsworth\\AppData\\Local\\Microsoft\\WindowsApps\\PythonSoftwareFoundation.Python.3.10_qbz5n2kfra8p0\\python.exe -m pip install --upgrade pip\n"
          ]
        }
      ],
      "source": [
        "!pip install torchvision"
      ]
    },
    {
      "cell_type": "code",
      "execution_count": 4,
      "metadata": {
        "id": "Gk0KHIjUDRSH"
      },
      "outputs": [],
      "source": [
        "import torch\n",
        "from torch import nn\n",
        "from torch import nn, einsum\n",
        "import torch.nn.functional as F\n",
        "from torch import optim\n",
        "\n",
        "from einops import rearrange, repeat\n",
        "from einops.layers.torch import Rearrange\n",
        "import numpy as np\n",
        "import torchvision\n",
        "import time\n",
        "from torchinfo import summary"
      ]
    },
    {
      "cell_type": "code",
      "execution_count": 5,
      "metadata": {
        "id": "tL2k3L-mDkDR"
      },
      "outputs": [
        {
          "name": "stdout",
          "output_type": "stream",
          "text": [
            "Downloading http://yann.lecun.com/exdb/mnist/train-images-idx3-ubyte.gz\n",
            "Failed to download (trying next):\n",
            "<urlopen error [SSL: CERTIFICATE_VERIFY_FAILED] certificate verify failed: certificate has expired (_ssl.c:1007)>\n",
            "\n",
            "Downloading https://ossci-datasets.s3.amazonaws.com/mnist/train-images-idx3-ubyte.gz\n",
            "Downloading https://ossci-datasets.s3.amazonaws.com/mnist/train-images-idx3-ubyte.gz to /data/mnist\\MNIST\\raw\\train-images-idx3-ubyte.gz\n"
          ]
        },
        {
          "name": "stderr",
          "output_type": "stream",
          "text": [
            "100%|██████████| 9912422/9912422 [00:04<00:00, 2057786.37it/s]\n"
          ]
        },
        {
          "name": "stdout",
          "output_type": "stream",
          "text": [
            "Extracting /data/mnist\\MNIST\\raw\\train-images-idx3-ubyte.gz to /data/mnist\\MNIST\\raw\n",
            "\n",
            "Downloading http://yann.lecun.com/exdb/mnist/train-labels-idx1-ubyte.gz\n",
            "Failed to download (trying next):\n",
            "<urlopen error [SSL: CERTIFICATE_VERIFY_FAILED] certificate verify failed: certificate has expired (_ssl.c:1007)>\n",
            "\n",
            "Downloading https://ossci-datasets.s3.amazonaws.com/mnist/train-labels-idx1-ubyte.gz\n",
            "Downloading https://ossci-datasets.s3.amazonaws.com/mnist/train-labels-idx1-ubyte.gz to /data/mnist\\MNIST\\raw\\train-labels-idx1-ubyte.gz\n"
          ]
        },
        {
          "name": "stderr",
          "output_type": "stream",
          "text": [
            "100%|██████████| 28881/28881 [00:00<00:00, 267415.98it/s]\n"
          ]
        },
        {
          "name": "stdout",
          "output_type": "stream",
          "text": [
            "Extracting /data/mnist\\MNIST\\raw\\train-labels-idx1-ubyte.gz to /data/mnist\\MNIST\\raw\n",
            "\n",
            "Downloading http://yann.lecun.com/exdb/mnist/t10k-images-idx3-ubyte.gz\n",
            "Failed to download (trying next):\n",
            "<urlopen error [SSL: CERTIFICATE_VERIFY_FAILED] certificate verify failed: certificate has expired (_ssl.c:1007)>\n",
            "\n",
            "Downloading https://ossci-datasets.s3.amazonaws.com/mnist/t10k-images-idx3-ubyte.gz\n",
            "Downloading https://ossci-datasets.s3.amazonaws.com/mnist/t10k-images-idx3-ubyte.gz to /data/mnist\\MNIST\\raw\\t10k-images-idx3-ubyte.gz\n"
          ]
        },
        {
          "name": "stderr",
          "output_type": "stream",
          "text": [
            "100%|██████████| 1648877/1648877 [00:00<00:00, 1712223.03it/s]\n"
          ]
        },
        {
          "name": "stdout",
          "output_type": "stream",
          "text": [
            "Extracting /data/mnist\\MNIST\\raw\\t10k-images-idx3-ubyte.gz to /data/mnist\\MNIST\\raw\n",
            "\n",
            "Downloading http://yann.lecun.com/exdb/mnist/t10k-labels-idx1-ubyte.gz\n",
            "Failed to download (trying next):\n",
            "<urlopen error [SSL: CERTIFICATE_VERIFY_FAILED] certificate verify failed: certificate has expired (_ssl.c:1007)>\n",
            "\n",
            "Downloading https://ossci-datasets.s3.amazonaws.com/mnist/t10k-labels-idx1-ubyte.gz\n",
            "Downloading https://ossci-datasets.s3.amazonaws.com/mnist/t10k-labels-idx1-ubyte.gz to /data/mnist\\MNIST\\raw\\t10k-labels-idx1-ubyte.gz\n"
          ]
        },
        {
          "name": "stderr",
          "output_type": "stream",
          "text": [
            "100%|██████████| 4542/4542 [00:00<00:00, 4539082.38it/s]\n"
          ]
        },
        {
          "name": "stdout",
          "output_type": "stream",
          "text": [
            "Extracting /data/mnist\\MNIST\\raw\\t10k-labels-idx1-ubyte.gz to /data/mnist\\MNIST\\raw\n",
            "\n"
          ]
        }
      ],
      "source": [
        "torch.manual_seed(42)\n",
        "\n",
        "DOWNLOAD_PATH = '/data/mnist'\n",
        "BATCH_SIZE_TRAIN = 100\n",
        "BATCH_SIZE_TEST = 1000\n",
        "\n",
        "transform_mnist = torchvision.transforms.Compose([torchvision.transforms.ToTensor(),\n",
        "                               torchvision.transforms.Normalize((0.1307,), (0.3081,))])\n",
        "\n",
        "train_set = torchvision.datasets.MNIST(DOWNLOAD_PATH, train=True, download=True,\n",
        "                                       transform=transform_mnist)\n",
        "train_loader = torch.utils.data.DataLoader(train_set, batch_size=BATCH_SIZE_TRAIN, shuffle=True)\n",
        "\n",
        "test_set = torchvision.datasets.MNIST(DOWNLOAD_PATH, train=False, download=True,\n",
        "                                      transform=transform_mnist)\n",
        "test_loader = torch.utils.data.DataLoader(test_set, batch_size=BATCH_SIZE_TEST, shuffle=True)\n"
      ]
    },
    {
      "cell_type": "code",
      "execution_count": 6,
      "metadata": {
        "colab": {
          "base_uri": "https://localhost:8080/",
          "height": 1000
        },
        "id": "m6Cw6dqB4Qy1",
        "outputId": "3246a200-d4d8-42d5-efa0-c3c5bb2e67ab"
      },
      "outputs": [
        {
          "name": "stderr",
          "output_type": "stream",
          "text": [
            "Clipping input data to the valid range for imshow with RGB data ([0..1] for floats or [0..255] for integers).\n"
          ]
        },
        {
          "data": {
            "image/png": "[encoded data removed]",
            "text/plain": [
              "<Figure size 1200x1200 with 1 Axes>"
            ]
          },
          "metadata": {},
          "output_type": "display_data"
        }
      ],
      "source": [
        "import matplotlib.pyplot as plt\n",
        "\n",
        "# Function to show a batch of images\n",
        "def show_batch(data_loader):\n",
        "    batch = next(iter(data_loader))\n",
        "    images, labels = batch\n",
        "    grid = torchvision.utils.make_grid(images, nrow=10)\n",
        "    plt.figure(figsize=(12, 12))\n",
        "    plt.imshow(grid.numpy().transpose((1, 2, 0)))\n",
        "    plt.title(\"Batch of Training Images\")\n",
        "    plt.axis('off')\n",
        "    plt.show()\n",
        "\n",
        "# Print images for validation\n",
        "show_batch(train_loader)"
      ]
    },
    {
      "cell_type": "markdown",
      "metadata": {
        "id": "U3Zi6xFSbU5M"
      },
      "source": [
        "\n",
        "\n",
        "\n",
        "\n",
        "# The ViT Model\n",
        "\n"
      ]
    },
    {
      "cell_type": "markdown",
      "metadata": {
        "id": "HNkMNRs4c4Ja"
      },
      "source": [
        "We will now set up the ViT model. There will be 3 parts to this model:\n",
        "\n",
        "* A ``patch embedding'' layer that takes an image and tokenizes it. There is some amount of tensor algebra involved here (since we have to slice and dice the input appropriately), and the `einops` package is helpful. We will also add learnable positional encodings as parameters.\n",
        "* A sequence of transformer blocks. This will be a smaller scale replica of the original proposed ViT, except that we will only use 4 blocks in our model (instead of 32 in the actual ViT).\n",
        "* A (dense) classification layer at the end.\n",
        "\n",
        "Further, each transformer block consists of the following components:\n",
        "\n",
        "* A *self-attention* layer with $H$ heads,\n",
        "* A one-hidden-layer (dense) network to collapse the various heads. For the hidden neurons, the original ViT used something called a [GeLU](https://arxiv.org/pdf/1606.08415.pdf) activation function, which is a smooth approximation to the ReLU. For our example, regular ReLUs seem to be working just fine. The original ViT also used Dropout but we won't need it here.\n",
        "* *layer normalization* preceeding each of the above operations.\n",
        "\n",
        "Some care needs to be taken in making sure the various dimensions of the tensors are matched."
      ]
    },
    {
      "cell_type": "code",
      "execution_count": 7,
      "metadata": {
        "id": "YAuZ2Nm_DXCB"
      },
      "outputs": [],
      "source": [
        "def pair(t):\n",
        "    return t if isinstance(t, tuple) else (t, t)\n",
        "\n",
        "# classes\n",
        "\n",
        "class PreNorm(nn.Module):\n",
        "    def __init__(self, dim, fn):\n",
        "        super().__init__()\n",
        "        self.norm = nn.LayerNorm(dim)\n",
        "        self.fn = fn\n",
        "    def forward(self, x, **kwargs):\n",
        "        return self.fn(self.norm(x), **kwargs)\n",
        "\n",
        "class FeedForward(nn.Module):\n",
        "    def __init__(self, dim, hidden_dim, dropout = 0.):\n",
        "        super().__init__()\n",
        "        self.net = nn.Sequential(\n",
        "            nn.Linear(dim, hidden_dim),\n",
        "            nn.ReLU(), #nn.GELU(),\n",
        "            nn.Dropout(dropout),\n",
        "            nn.Linear(hidden_dim, dim),\n",
        "            nn.Dropout(dropout)\n",
        "        )\n",
        "    def forward(self, x):\n",
        "        return self.net(x)\n",
        "\n",
        "class Attention(nn.Module):\n",
        "    def __init__(self, dim, heads = 4, dim_head = 64, dropout = 0.):\n",
        "        super().__init__()\n",
        "        inner_dim = dim_head *  heads\n",
        "        project_out = not (heads == 1 and dim_head == dim)\n",
        "\n",
        "        self.heads = heads\n",
        "        self.scale = dim_head ** -0.5\n",
        "\n",
        "        self.attend = nn.Softmax(dim = -1)\n",
        "        self.to_qkv = nn.Linear(dim, inner_dim * 3, bias = False)\n",
        "\n",
        "        self.to_out = nn.Sequential(\n",
        "            nn.Linear(inner_dim, dim),\n",
        "            nn.Dropout(dropout)\n",
        "        ) if project_out else nn.Identity()\n",
        "\n",
        "    def forward(self, x):\n",
        "        b, n, _, h = *x.shape, self.heads\n",
        "        qkv = self.to_qkv(x).chunk(3, dim = -1)\n",
        "        q, k, v = map(lambda t: rearrange(t, 'b n (h d) -> b h n d', h = h), qkv)\n",
        "\n",
        "        dots = einsum('b h i d, b h j d -> b h i j', q, k) * self.scale\n",
        "\n",
        "        attn = self.attend(dots)\n",
        "\n",
        "        out = einsum('b h i j, b h j d -> b h i d', attn, v)\n",
        "        out = rearrange(out, 'b h n d -> b n (h d)')\n",
        "        return self.to_out(out)\n",
        "\n",
        "class Transformer(nn.Module):\n",
        "    def __init__(self, dim, depth, heads, dim_head, mlp_dim, dropout = 0.):\n",
        "        super().__init__()\n",
        "        self.layers = nn.ModuleList([])\n",
        "        for _ in range(depth):\n",
        "            self.layers.append(nn.ModuleList([\n",
        "                PreNorm(dim, Attention(dim, heads = heads, dim_head = dim_head, dropout = dropout)),\n",
        "                PreNorm(dim, FeedForward(dim, mlp_dim, dropout = dropout))\n",
        "            ]))\n",
        "    def forward(self, x):\n",
        "        for attn, ff in self.layers:\n",
        "            x = attn(x) + x\n",
        "            x = ff(x) + x\n",
        "        return x\n",
        "\n",
        "class ViT(nn.Module):\n",
        "    def __init__(self, *, image_size, patch_size, num_classes, dim, depth, heads, mlp_dim, pool = 'cls', channels = 3, dim_head = 64, dropout = 0., emb_dropout = 0.):\n",
        "        super().__init__()\n",
        "        image_height, image_width = pair(image_size)\n",
        "        patch_height, patch_width = pair(patch_size)\n",
        "\n",
        "        assert image_height % patch_height == 0 and image_width % patch_width == 0, 'Image dimensions must be divisible by the patch size.'\n",
        "\n",
        "        num_patches = (image_height // patch_height) * (image_width // patch_width)\n",
        "        patch_dim = channels * patch_height * patch_width\n",
        "        assert pool in {'cls', 'mean'}, 'pool type must be either cls (cls token) or mean (mean pooling)'\n",
        "\n",
        "        self.to_patch_embedding = nn.Sequential(\n",
        "            Rearrange('b c (h p1) (w p2) -> b (h w) (p1 p2 c)', p1 = patch_height, p2 = patch_width),\n",
        "            nn.Linear(patch_dim, dim),\n",
        "        )\n",
        "\n",
        "        self.pos_embedding = nn.Parameter(torch.randn(1, num_patches + 1, dim))\n",
        "        self.cls_token = nn.Parameter(torch.randn(1, 1, dim))\n",
        "        self.dropout = nn.Dropout(emb_dropout)\n",
        "\n",
        "        self.transformer = Transformer(dim, depth, heads, dim_head, mlp_dim, dropout)\n",
        "\n",
        "        self.pool = pool\n",
        "        self.to_latent = nn.Identity()\n",
        "\n",
        "        self.mlp_head = nn.Sequential(\n",
        "            nn.LayerNorm(dim),\n",
        "            nn.Linear(dim, num_classes)\n",
        "        )\n",
        "\n",
        "    def forward(self, img):\n",
        "        x = self.to_patch_embedding(img)\n",
        "        b, n, _ = x.shape\n",
        "\n",
        "        cls_tokens = repeat(self.cls_token, '() n d -> b n d', b = b)\n",
        "        x = torch.cat((cls_tokens, x), dim=1)\n",
        "        x += self.pos_embedding[:, :(n + 1)]\n",
        "        x = self.dropout(x)\n",
        "\n",
        "        x = self.transformer(x)\n",
        "\n",
        "        x = x.mean(dim = 1) if self.pool == 'mean' else x[:, 0]\n",
        "\n",
        "        x = self.to_latent(x)\n",
        "        return self.mlp_head(x)"
      ]
    },
    {
      "cell_type": "code",
      "execution_count": 100,
      "metadata": {
        "id": "7vD4p1EyWHbD"
      },
      "outputs": [],
      "source": [
        "# original:\n",
        "#model = ViT(image_size=28, patch_size=4, num_classes=10, channels=1, dim=64, depth=6, heads=4, mlp_dim=128)\n",
        "#optimizer = optim.Adam(model.parameters(), lr=0.003)\n",
        "image_size=28\n",
        "patch_size=4 \n",
        "num_classes=10\n",
        "channels=1\n",
        "\n",
        "\n",
        "dim=18\n",
        "depth=2\n",
        "heads=6\n",
        "mlp_dim=32\n",
        "\n",
        "model = ViT(image_size=image_size, patch_size=patch_size, num_classes=num_classes, channels=channels, dim=dim, depth=depth, heads=heads, mlp_dim=mlp_dim)\n",
        "optimizer = optim.Adam(model.parameters(), lr=0.003)"
      ]
    },
    {
      "cell_type": "markdown",
      "metadata": {
        "id": "aK7gfKWm0ggw"
      },
      "source": [
        "Let's see how the model looks like."
      ]
    },
    {
      "cell_type": "code",
      "execution_count": 101,
      "metadata": {
        "colab": {
          "base_uri": "https://localhost:8080/"
        },
        "id": "riukWYK5WIkB",
        "outputId": "44ca13c3-c921-46dc-a561-5bb8fc317f94"
      },
      "outputs": [
        {
          "data": {
            "text/plain": [
              "===========================================================================\n",
              "Layer (type:depth-idx)                             Param #\n",
              "===========================================================================\n",
              "ViT                                                918\n",
              "├─Sequential: 1-1                                  --\n",
              "│    └─Rearrange: 2-1                              --\n",
              "│    └─Linear: 2-2                                 306\n",
              "├─Dropout: 1-2                                     --\n",
              "├─Transformer: 1-3                                 --\n",
              "│    └─ModuleList: 2-3                             --\n",
              "│    │    └─ModuleList: 3-1                        28,940\n",
              "│    │    └─ModuleList: 3-2                        28,940\n",
              "├─Identity: 1-4                                    --\n",
              "├─Sequential: 1-5                                  --\n",
              "│    └─LayerNorm: 2-4                              36\n",
              "│    └─Linear: 2-5                                 190\n",
              "===========================================================================\n",
              "Total params: 59,330\n",
              "Trainable params: 59,330\n",
              "Non-trainable params: 0\n",
              "==========================================================================="
            ]
          },
          "execution_count": 101,
          "metadata": {},
          "output_type": "execute_result"
        }
      ],
      "source": [
        "summary(model)"
      ]
    },
    {
      "cell_type": "markdown",
      "metadata": {
        "id": "Wo5XbEtJbtiG"
      },
      "source": [
        "This is it -- 4 transformer blocks, followed by a linear classification layer. Let us quickly see how many trainable parameters are present in this model."
      ]
    },
    {
      "cell_type": "code",
      "execution_count": 102,
      "metadata": {
        "colab": {
          "base_uri": "https://localhost:8080/"
        },
        "id": "aTN9-kFMbdXn",
        "outputId": "1cd8edaf-84fa-4208-947e-3307556da20e"
      },
      "outputs": [
        {
          "name": "stdout",
          "output_type": "stream",
          "text": [
            "59330\n"
          ]
        }
      ],
      "source": [
        "\n",
        "def count_parameters(model):\n",
        "    return sum(p.numel() for p in model.parameters() if p.requires_grad)\n",
        "\n",
        "print(count_parameters(model))"
      ]
    },
    {
      "cell_type": "markdown",
      "metadata": {
        "id": "UgSVq3NqcKT3"
      },
      "source": [
        "About half a million. Not too bad; the bigger NLP type models have several tens of millions of parameters. But since we are training on MNIST this should be more than sufficient."
      ]
    },
    {
      "cell_type": "markdown",
      "metadata": {
        "id": "5mnUt-GXYYv3"
      },
      "source": [
        "# Training and testing\n",
        "\n",
        "All done! We can now train the ViT model. The following again is boilerplate code.\n"
      ]
    },
    {
      "cell_type": "code",
      "execution_count": 103,
      "metadata": {
        "id": "OXxnADQNDpgA"
      },
      "outputs": [],
      "source": [
        "def train_epoch(model, optimizer, data_loader, loss_history):\n",
        "    total_samples = len(data_loader.dataset)\n",
        "    model.train()\n",
        "\n",
        "    for i, (data, target) in enumerate(data_loader):\n",
        "        optimizer.zero_grad()\n",
        "        output = F.log_softmax(model(data), dim=1)\n",
        "        loss = F.nll_loss(output, target)\n",
        "        loss.backward()\n",
        "        optimizer.step()\n",
        "\n",
        "        if i % 100 == 0:\n",
        "            print('[' +  '{:5}'.format(i * len(data)) + '/' + '{:5}'.format(total_samples) +\n",
        "                  ' (' + '{:3.0f}'.format(100 * i / len(data_loader)) + '%)]  Loss: ' +\n",
        "                  '{:6.4f}'.format(loss.item()))\n",
        "            loss_history.append(loss.item())\n"
      ]
    },
    {
      "cell_type": "code",
      "execution_count": 104,
      "metadata": {
        "id": "Moywc015DrAg"
      },
      "outputs": [],
      "source": [
        "def evaluate(model, data_loader, loss_history):\n",
        "    model.eval()\n",
        "\n",
        "    total_samples = len(data_loader.dataset)\n",
        "    correct_samples = 0\n",
        "    total_loss = 0\n",
        "\n",
        "    with torch.no_grad():\n",
        "        for data, target in data_loader:\n",
        "            output = F.log_softmax(model(data), dim=1)\n",
        "            loss = F.nll_loss(output, target, reduction='sum')\n",
        "            _, pred = torch.max(output, dim=1)\n",
        "\n",
        "            total_loss += loss.item()\n",
        "            correct_samples += pred.eq(target).sum()\n",
        "\n",
        "    avg_loss = total_loss / total_samples\n",
        "    loss_history.append(avg_loss)\n",
        "    print('\\nAverage test loss: ' + '{:.4f}'.format(avg_loss) +\n",
        "          '  Accuracy:' + '{:5}'.format(correct_samples) + '/' +\n",
        "          '{:5}'.format(total_samples) + ' (' +\n",
        "          '{:4.2f}'.format(100.0 * correct_samples / total_samples) + '%)\\n')"
      ]
    },
    {
      "cell_type": "markdown",
      "metadata": {
        "id": "YbCf2V--cohk"
      },
      "source": [
        "\n",
        "The following will take a bit of time (on CPU).  Each epoch should take about 2 to 3 minutes. At the end of training, we should see upwards of 95% test accuracy."
      ]
    },
    {
      "cell_type": "code",
      "execution_count": 105,
      "metadata": {
        "colab": {
          "base_uri": "https://localhost:8080/"
        },
        "id": "5d0Hb-TKDwbA",
        "outputId": "f0cc616f-d474-469e-90d0-2155559e57cc"
      },
      "outputs": [
        {
          "name": "stdout",
          "output_type": "stream",
          "text": [
            "Epoch: 1\n",
            "[    0/60000 (  0%)]  Loss: 2.5358\n",
            "[10000/60000 ( 17%)]  Loss: 0.6496\n",
            "[20000/60000 ( 33%)]  Loss: 0.5120\n",
            "[30000/60000 ( 50%)]  Loss: 0.2650\n",
            "[40000/60000 ( 67%)]  Loss: 0.1987\n",
            "[50000/60000 ( 83%)]  Loss: 0.3009\n",
            "\n",
            "Average test loss: 0.2022  Accuracy: 9389/10000 (93.89%)\n",
            "\n",
            "Epoch: 2\n",
            "[    0/60000 (  0%)]  Loss: 0.3394\n",
            "[10000/60000 ( 17%)]  Loss: 0.2126\n",
            "[20000/60000 ( 33%)]  Loss: 0.1012\n",
            "[30000/60000 ( 50%)]  Loss: 0.2602\n",
            "[40000/60000 ( 67%)]  Loss: 0.2301\n",
            "[50000/60000 ( 83%)]  Loss: 0.1729\n",
            "\n",
            "Average test loss: 0.1665  Accuracy: 9495/10000 (94.95%)\n",
            "\n",
            "Epoch: 3\n",
            "[    0/60000 (  0%)]  Loss: 0.1381\n",
            "[10000/60000 ( 17%)]  Loss: 0.1342\n",
            "[20000/60000 ( 33%)]  Loss: 0.1625\n",
            "[30000/60000 ( 50%)]  Loss: 0.1714\n",
            "[40000/60000 ( 67%)]  Loss: 0.1429\n",
            "[50000/60000 ( 83%)]  Loss: 0.1363\n",
            "\n",
            "Average test loss: 0.1290  Accuracy: 9622/10000 (96.22%)\n",
            "\n",
            "Epoch: 4\n",
            "[    0/60000 (  0%)]  Loss: 0.1428\n",
            "[10000/60000 ( 17%)]  Loss: 0.0872\n",
            "[20000/60000 ( 33%)]  Loss: 0.0906\n",
            "[30000/60000 ( 50%)]  Loss: 0.1656\n",
            "[40000/60000 ( 67%)]  Loss: 0.1229\n",
            "[50000/60000 ( 83%)]  Loss: 0.0591\n",
            "\n",
            "Average test loss: 0.1312  Accuracy: 9619/10000 (96.19%)\n",
            "\n",
            "Epoch: 5\n",
            "[    0/60000 (  0%)]  Loss: 0.0915\n",
            "[10000/60000 ( 17%)]  Loss: 0.1135\n",
            "[20000/60000 ( 33%)]  Loss: 0.0555\n",
            "[30000/60000 ( 50%)]  Loss: 0.2442\n",
            "[40000/60000 ( 67%)]  Loss: 0.1308\n",
            "[50000/60000 ( 83%)]  Loss: 0.0947\n",
            "\n",
            "Average test loss: 0.1302  Accuracy: 9597/10000 (95.97%)\n",
            "\n",
            "Epoch: 6\n",
            "[    0/60000 (  0%)]  Loss: 0.0753\n",
            "[10000/60000 ( 17%)]  Loss: 0.1204\n",
            "[20000/60000 ( 33%)]  Loss: 0.0879\n",
            "[30000/60000 ( 50%)]  Loss: 0.1443\n",
            "[40000/60000 ( 67%)]  Loss: 0.2158\n",
            "[50000/60000 ( 83%)]  Loss: 0.1580\n",
            "\n",
            "Average test loss: 0.1373  Accuracy: 9576/10000 (95.76%)\n",
            "\n",
            "Epoch: 7\n",
            "[    0/60000 (  0%)]  Loss: 0.1785\n",
            "[10000/60000 ( 17%)]  Loss: 0.1266\n",
            "[20000/60000 ( 33%)]  Loss: 0.1434\n",
            "[30000/60000 ( 50%)]  Loss: 0.0612\n",
            "[40000/60000 ( 67%)]  Loss: 0.0385\n",
            "[50000/60000 ( 83%)]  Loss: 0.1088\n",
            "\n",
            "Average test loss: 0.1247  Accuracy: 9608/10000 (96.08%)\n",
            "\n",
            "Epoch: 8\n",
            "[    0/60000 (  0%)]  Loss: 0.2154\n",
            "[10000/60000 ( 17%)]  Loss: 0.0545\n",
            "[20000/60000 ( 33%)]  Loss: 0.1535\n",
            "[30000/60000 ( 50%)]  Loss: 0.0840\n",
            "[40000/60000 ( 67%)]  Loss: 0.0459\n",
            "[50000/60000 ( 83%)]  Loss: 0.0737\n",
            "\n",
            "Average test loss: 0.1059  Accuracy: 9677/10000 (96.77%)\n",
            "\n",
            "Epoch: 9\n",
            "[    0/60000 (  0%)]  Loss: 0.0735\n",
            "[10000/60000 ( 17%)]  Loss: 0.0657\n",
            "[20000/60000 ( 33%)]  Loss: 0.2329\n",
            "[30000/60000 ( 50%)]  Loss: 0.1120\n",
            "[40000/60000 ( 67%)]  Loss: 0.1084\n",
            "[50000/60000 ( 83%)]  Loss: 0.0467\n",
            "\n",
            "Average test loss: 0.0981  Accuracy: 9711/10000 (97.11%)\n",
            "\n",
            "Epoch: 10\n",
            "[    0/60000 (  0%)]  Loss: 0.0532\n",
            "[10000/60000 ( 17%)]  Loss: 0.0703\n",
            "[20000/60000 ( 33%)]  Loss: 0.1873\n",
            "[30000/60000 ( 50%)]  Loss: 0.0629\n",
            "[40000/60000 ( 67%)]  Loss: 0.0659\n",
            "[50000/60000 ( 83%)]  Loss: 0.0761\n",
            "\n",
            "Average test loss: 0.0969  Accuracy: 9704/10000 (97.04%)\n",
            "\n",
            "Execution time: 342.75 seconds\n"
          ]
        }
      ],
      "source": [
        "N_EPOCHS = 10\n",
        "\n",
        "start_time = time.time()\n",
        "\n",
        "\n",
        "train_loss_history, test_loss_history = [], []\n",
        "for epoch in range(1, N_EPOCHS + 1):\n",
        "    print('Epoch:', epoch)\n",
        "    train_epoch(model, optimizer, train_loader, train_loss_history)\n",
        "    evaluate(model, test_loader, test_loss_history)\n",
        "\n",
        "print('Execution time:', '{:5.2f}'.format(time.time() - start_time), 'seconds')"
      ]
    },
    {
      "cell_type": "code",
      "execution_count": 106,
      "metadata": {},
      "outputs": [
        {
          "name": "stdout",
          "output_type": "stream",
          "text": [
            "vit_18_2_6_32\n"
          ]
        }
      ],
      "source": [
        "\n",
        "name= f\"vit_{dim}_{depth}_{heads}_{mlp_dim}\"\n",
        "torch.save(model, r\".\\trained_transformer\\verification\"+f\"\\{name}.pt\")\n",
        "\n",
        "print(name)"
      ]
    },
    {
      "cell_type": "code",
      "execution_count": 107,
      "metadata": {
        "colab": {
          "base_uri": "https://localhost:8080/"
        },
        "id": "35jvT53FuKNM",
        "outputId": "137abdf8-3d5c-4592-bffe-b1c4e7b25419"
      },
      "outputs": [
        {
          "name": "stdout",
          "output_type": "stream",
          "text": [
            "\n",
            "Average test loss: 0.0969  Accuracy: 9704/10000 (97.04%)\n",
            "\n"
          ]
        }
      ],
      "source": [
        "# name = \"vit_18_1_6_64\"\n",
        "# # Instantiate the model\n",
        "# model = ViT(image_size=image_size, patch_size=patch_size, num_classes=num_classes, channels=channels, dim=dim, depth=depth, heads=heads, mlp_dim=mlp_dim)\n",
        "# model = torch.load(r\".\\trained_transformer\\verification\" + f\"\\{name}.pt\", map_location='cpu')\n",
        "\n",
        "evaluate(model, test_loader, test_loss_history)"
      ]
    },
    {
      "cell_type": "code",
      "execution_count": 108,
      "metadata": {
        "colab": {
          "base_uri": "https://localhost:8080/",
          "height": 718
        },
        "id": "sTzIGqxHCT6D",
        "outputId": "4273a4ff-8428-42d6-ad6b-4a00e3c3e076"
      },
      "outputs": [
        {
          "data": {
            "image/png": "[encoded data removed]",
            "text/plain": [
              "<Figure size 1000x800 with 2 Axes>"
            ]
          },
          "metadata": {},
          "output_type": "display_data"
        }
      ],
      "source": [
        "import seaborn as sns\n",
        "from sklearn.metrics import confusion_matrix\n",
        "import numpy as np\n",
        "\n",
        "# Confusion matrix\n",
        "def plot_confusion_matrix(model, data_loader):\n",
        "    model.eval()\n",
        "    all_preds = []\n",
        "    all_labels = []\n",
        "\n",
        "    with torch.no_grad():\n",
        "        for data, target in data_loader:\n",
        "            output = model(data)\n",
        "            _, preds = torch.max(output, dim=1)\n",
        "            all_preds.extend(preds.numpy())\n",
        "            all_labels.extend(target.numpy())\n",
        "\n",
        "    cm = confusion_matrix(all_labels, all_preds)\n",
        "    plt.figure(figsize=(10, 8))\n",
        "    sns.heatmap(cm, annot=True, fmt='d', cmap='Blues')\n",
        "    plt.xlabel('Predicted')\n",
        "    plt.ylabel('Actual')\n",
        "    plt.title('Confusion Matrix')\n",
        "    plt.show()\n",
        "\n",
        "plot_confusion_matrix(model, test_loader)"
      ]
    },
    {
      "cell_type": "code",
      "execution_count": 109,
      "metadata": {
        "colab": {
          "base_uri": "https://localhost:8080/",
          "height": 611
        },
        "id": "738s5juRCWM9",
        "outputId": "20bf3745-14f9-46aa-e9bf-674d4cfb4e26"
      },
      "outputs": [
        {
          "data": {
            "image/png": "[encoded data removed]",
            "text/plain": [
              "<Figure size 1500x600 with 10 Axes>"
            ]
          },
          "metadata": {},
          "output_type": "display_data"
        }
      ],
      "source": [
        "# Visualize correct and wrong predictions\n",
        "def plot_predictions(model, data_loader):\n",
        "    model.eval()\n",
        "    all_preds = []\n",
        "    all_labels = []\n",
        "    all_images = []\n",
        "\n",
        "    with torch.no_grad():\n",
        "        for data, target in data_loader:\n",
        "            output = model(data)\n",
        "            _, preds = torch.max(output, dim=1)\n",
        "            all_preds.extend(preds.numpy())\n",
        "            all_labels.extend(target.numpy())\n",
        "            all_images.extend(data.numpy())\n",
        "\n",
        "    all_preds = np.array(all_preds)\n",
        "    all_labels = np.array(all_labels)\n",
        "    all_images = np.array(all_images)\n",
        "\n",
        "    # Plot example images with predictions\n",
        "    fig, axes = plt.subplots(2, 5, figsize=(15, 6))\n",
        "    axes = axes.flatten()\n",
        "    for i, ax in enumerate(axes):\n",
        "        ax.imshow(all_images[i][0], cmap='gray')\n",
        "        ax.set_title(f'Label: {all_labels[i]}\\nPred: {all_preds[i]}')\n",
        "        ax.axis('off')\n",
        "    plt.tight_layout()\n",
        "    plt.show()\n",
        "\n",
        "plot_predictions(model, test_loader)"
      ]
    }
  ],
  "metadata": {
    "accelerator": "GPU",
    "colab": {
      "provenance": []
    },
    "kernelspec": {
      "display_name": "Python 3",
      "name": "python3"
    },
    "language_info": {
      "codemirror_mode": {
        "name": "ipython",
        "version": 3
      },
      "file_extension": ".py",
      "mimetype": "text/x-python",
      "name": "python",
      "nbconvert_exporter": "python",
      "pygments_lexer": "ipython3",
      "version": "3.10.11"
    }
  },
  "nbformat": 4,
  "nbformat_minor": 0
}
